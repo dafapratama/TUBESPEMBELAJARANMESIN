{
  "nbformat": 4,
  "nbformat_minor": 0,
  "metadata": {
    "colab": {
      "name": "1301180235_1301184395_DaffaSyifaPratama_FajarNoorIlham.ipynb",
      "provenance": [],
      "collapsed_sections": []
    },
    "kernelspec": {
      "name": "python3",
      "display_name": "Python 3"
    },
    "language_info": {
      "name": "python"
    }
  },
  "cells": [
    {
      "cell_type": "code",
      "metadata": {
        "id": "qKkOUqIVHFZb"
      },
      "source": [
        "import pandas as pd\n",
        "import numpy as np\n",
        "import matplotlib.pyplot as plt\n",
        "import seaborn as sns\n",
        "from sklearn import metrics\n",
        "from sklearn.tree import DecisionTreeClassifier\n",
        "from sklearn.model_selection import train_test_split\n",
        "from sklearn.metrics import confusion_matrix, classification_report"
      ],
      "execution_count": 1,
      "outputs": []
    },
    {
      "cell_type": "code",
      "metadata": {
        "id": "Ktmt9DrBHbv_"
      },
      "source": [
        "# Load dataset train dan test \n",
        "\n",
        "data_train = pd.read_csv(\"kendaraan_train.csv\")\n",
        "data_test = pd.read_csv(\"kendaraan_test.csv\")"
      ],
      "execution_count": 2,
      "outputs": []
    },
    {
      "cell_type": "code",
      "metadata": {
        "id": "yTlnv9BgHh5G",
        "colab": {
          "base_uri": "https://localhost:8080/",
          "height": 204
        },
        "outputId": "92f3f59f-3a10-45a4-abc4-6e17039f103a"
      },
      "source": [
        "data_train.head(5)"
      ],
      "execution_count": 3,
      "outputs": [
        {
          "output_type": "execute_result",
          "data": {
            "text/html": [
              "<div>\n",
              "<style scoped>\n",
              "    .dataframe tbody tr th:only-of-type {\n",
              "        vertical-align: middle;\n",
              "    }\n",
              "\n",
              "    .dataframe tbody tr th {\n",
              "        vertical-align: top;\n",
              "    }\n",
              "\n",
              "    .dataframe thead th {\n",
              "        text-align: right;\n",
              "    }\n",
              "</style>\n",
              "<table border=\"1\" class=\"dataframe\">\n",
              "  <thead>\n",
              "    <tr style=\"text-align: right;\">\n",
              "      <th></th>\n",
              "      <th>id</th>\n",
              "      <th>Jenis_Kelamin</th>\n",
              "      <th>Umur</th>\n",
              "      <th>SIM</th>\n",
              "      <th>Kode_Daerah</th>\n",
              "      <th>Sudah_Asuransi</th>\n",
              "      <th>Umur_Kendaraan</th>\n",
              "      <th>Kendaraan_Rusak</th>\n",
              "      <th>Premi</th>\n",
              "      <th>Kanal_Penjualan</th>\n",
              "      <th>Lama_Berlangganan</th>\n",
              "      <th>Tertarik</th>\n",
              "    </tr>\n",
              "  </thead>\n",
              "  <tbody>\n",
              "    <tr>\n",
              "      <th>0</th>\n",
              "      <td>1</td>\n",
              "      <td>Wanita</td>\n",
              "      <td>30.0</td>\n",
              "      <td>1.0</td>\n",
              "      <td>33.0</td>\n",
              "      <td>1.0</td>\n",
              "      <td>&lt; 1 Tahun</td>\n",
              "      <td>Tidak</td>\n",
              "      <td>28029.0</td>\n",
              "      <td>152.0</td>\n",
              "      <td>97.0</td>\n",
              "      <td>0</td>\n",
              "    </tr>\n",
              "    <tr>\n",
              "      <th>1</th>\n",
              "      <td>2</td>\n",
              "      <td>Pria</td>\n",
              "      <td>48.0</td>\n",
              "      <td>1.0</td>\n",
              "      <td>39.0</td>\n",
              "      <td>0.0</td>\n",
              "      <td>&gt; 2 Tahun</td>\n",
              "      <td>Pernah</td>\n",
              "      <td>25800.0</td>\n",
              "      <td>29.0</td>\n",
              "      <td>158.0</td>\n",
              "      <td>0</td>\n",
              "    </tr>\n",
              "    <tr>\n",
              "      <th>2</th>\n",
              "      <td>3</td>\n",
              "      <td>NaN</td>\n",
              "      <td>21.0</td>\n",
              "      <td>1.0</td>\n",
              "      <td>46.0</td>\n",
              "      <td>1.0</td>\n",
              "      <td>&lt; 1 Tahun</td>\n",
              "      <td>Tidak</td>\n",
              "      <td>32733.0</td>\n",
              "      <td>160.0</td>\n",
              "      <td>119.0</td>\n",
              "      <td>0</td>\n",
              "    </tr>\n",
              "    <tr>\n",
              "      <th>3</th>\n",
              "      <td>4</td>\n",
              "      <td>Wanita</td>\n",
              "      <td>58.0</td>\n",
              "      <td>1.0</td>\n",
              "      <td>48.0</td>\n",
              "      <td>0.0</td>\n",
              "      <td>1-2 Tahun</td>\n",
              "      <td>Tidak</td>\n",
              "      <td>2630.0</td>\n",
              "      <td>124.0</td>\n",
              "      <td>63.0</td>\n",
              "      <td>0</td>\n",
              "    </tr>\n",
              "    <tr>\n",
              "      <th>4</th>\n",
              "      <td>5</td>\n",
              "      <td>Pria</td>\n",
              "      <td>50.0</td>\n",
              "      <td>1.0</td>\n",
              "      <td>35.0</td>\n",
              "      <td>0.0</td>\n",
              "      <td>&gt; 2 Tahun</td>\n",
              "      <td>NaN</td>\n",
              "      <td>34857.0</td>\n",
              "      <td>88.0</td>\n",
              "      <td>194.0</td>\n",
              "      <td>0</td>\n",
              "    </tr>\n",
              "  </tbody>\n",
              "</table>\n",
              "</div>"
            ],
            "text/plain": [
              "   id Jenis_Kelamin  Umur  ...  Kanal_Penjualan  Lama_Berlangganan  Tertarik\n",
              "0   1        Wanita  30.0  ...            152.0               97.0         0\n",
              "1   2          Pria  48.0  ...             29.0              158.0         0\n",
              "2   3           NaN  21.0  ...            160.0              119.0         0\n",
              "3   4        Wanita  58.0  ...            124.0               63.0         0\n",
              "4   5          Pria  50.0  ...             88.0              194.0         0\n",
              "\n",
              "[5 rows x 12 columns]"
            ]
          },
          "metadata": {
            "tags": []
          },
          "execution_count": 3
        }
      ]
    },
    {
      "cell_type": "code",
      "metadata": {
        "id": "KUCP90F3HjYe",
        "colab": {
          "base_uri": "https://localhost:8080/",
          "height": 204
        },
        "outputId": "52a1f514-855f-4966-e414-f4690820f0a8"
      },
      "source": [
        "data_test.head(5)"
      ],
      "execution_count": 4,
      "outputs": [
        {
          "output_type": "execute_result",
          "data": {
            "text/html": [
              "<div>\n",
              "<style scoped>\n",
              "    .dataframe tbody tr th:only-of-type {\n",
              "        vertical-align: middle;\n",
              "    }\n",
              "\n",
              "    .dataframe tbody tr th {\n",
              "        vertical-align: top;\n",
              "    }\n",
              "\n",
              "    .dataframe thead th {\n",
              "        text-align: right;\n",
              "    }\n",
              "</style>\n",
              "<table border=\"1\" class=\"dataframe\">\n",
              "  <thead>\n",
              "    <tr style=\"text-align: right;\">\n",
              "      <th></th>\n",
              "      <th>Jenis_Kelamin</th>\n",
              "      <th>Umur</th>\n",
              "      <th>SIM</th>\n",
              "      <th>Kode_Daerah</th>\n",
              "      <th>Sudah_Asuransi</th>\n",
              "      <th>Umur_Kendaraan</th>\n",
              "      <th>Kendaraan_Rusak</th>\n",
              "      <th>Premi</th>\n",
              "      <th>Kanal_Penjualan</th>\n",
              "      <th>Lama_Berlangganan</th>\n",
              "      <th>Tertarik</th>\n",
              "    </tr>\n",
              "  </thead>\n",
              "  <tbody>\n",
              "    <tr>\n",
              "      <th>0</th>\n",
              "      <td>Wanita</td>\n",
              "      <td>49</td>\n",
              "      <td>1</td>\n",
              "      <td>8</td>\n",
              "      <td>0</td>\n",
              "      <td>1-2 Tahun</td>\n",
              "      <td>Pernah</td>\n",
              "      <td>46963</td>\n",
              "      <td>26</td>\n",
              "      <td>145</td>\n",
              "      <td>0</td>\n",
              "    </tr>\n",
              "    <tr>\n",
              "      <th>1</th>\n",
              "      <td>Pria</td>\n",
              "      <td>22</td>\n",
              "      <td>1</td>\n",
              "      <td>47</td>\n",
              "      <td>1</td>\n",
              "      <td>&lt; 1 Tahun</td>\n",
              "      <td>Tidak</td>\n",
              "      <td>39624</td>\n",
              "      <td>152</td>\n",
              "      <td>241</td>\n",
              "      <td>0</td>\n",
              "    </tr>\n",
              "    <tr>\n",
              "      <th>2</th>\n",
              "      <td>Pria</td>\n",
              "      <td>24</td>\n",
              "      <td>1</td>\n",
              "      <td>28</td>\n",
              "      <td>1</td>\n",
              "      <td>&lt; 1 Tahun</td>\n",
              "      <td>Tidak</td>\n",
              "      <td>110479</td>\n",
              "      <td>152</td>\n",
              "      <td>62</td>\n",
              "      <td>0</td>\n",
              "    </tr>\n",
              "    <tr>\n",
              "      <th>3</th>\n",
              "      <td>Pria</td>\n",
              "      <td>46</td>\n",
              "      <td>1</td>\n",
              "      <td>8</td>\n",
              "      <td>1</td>\n",
              "      <td>1-2 Tahun</td>\n",
              "      <td>Tidak</td>\n",
              "      <td>36266</td>\n",
              "      <td>124</td>\n",
              "      <td>34</td>\n",
              "      <td>0</td>\n",
              "    </tr>\n",
              "    <tr>\n",
              "      <th>4</th>\n",
              "      <td>Pria</td>\n",
              "      <td>35</td>\n",
              "      <td>1</td>\n",
              "      <td>23</td>\n",
              "      <td>0</td>\n",
              "      <td>1-2 Tahun</td>\n",
              "      <td>Pernah</td>\n",
              "      <td>26963</td>\n",
              "      <td>152</td>\n",
              "      <td>229</td>\n",
              "      <td>0</td>\n",
              "    </tr>\n",
              "  </tbody>\n",
              "</table>\n",
              "</div>"
            ],
            "text/plain": [
              "  Jenis_Kelamin  Umur  SIM  ...  Kanal_Penjualan  Lama_Berlangganan Tertarik\n",
              "0        Wanita    49    1  ...               26                145        0\n",
              "1          Pria    22    1  ...              152                241        0\n",
              "2          Pria    24    1  ...              152                 62        0\n",
              "3          Pria    46    1  ...              124                 34        0\n",
              "4          Pria    35    1  ...              152                229        0\n",
              "\n",
              "[5 rows x 11 columns]"
            ]
          },
          "metadata": {
            "tags": []
          },
          "execution_count": 4
        }
      ]
    },
    {
      "cell_type": "markdown",
      "metadata": {
        "id": "xvUr5NYwHnGG"
      },
      "source": [
        "## 1. Visualisasi Sebelum Preprocessing Untuk Data Train"
      ]
    },
    {
      "cell_type": "code",
      "metadata": {
        "id": "azdsGZhIHo_d",
        "colab": {
          "base_uri": "https://localhost:8080/",
          "height": 434
        },
        "outputId": "d4ba5828-b0fb-48a1-97c5-a86a9aa59276"
      },
      "source": [
        "# Membuat visaulisasi sebelum data di lakukan tahapan preprocessing. Hal ini kami lakukan untuk melihat sebuah perbedaan antara\n",
        "# nilai korelasi dari setiap kolom sebelum di lakukan tahapan preprocessing dan sesudah di preprocessing pada data train\n",
        "\n",
        "plt.figure(figsize=(10, 5))\n",
        "\n",
        "korelasi_data_train = sns.heatmap(data_train.corr(), cmap=\"cool\", annot=True)\n",
        "korelasi_data_train.set_title(\"Korelasi Data Train Sebelum Di Lakukan Tahapan Preprocessing\", fontdict={\"fontsize\":12}, pad=12);"
      ],
      "execution_count": 5,
      "outputs": [
        {
          "output_type": "display_data",
          "data": {
            "image/png": "[encoded data removed]",
            "text/plain": [
              "<Figure size 720x360 with 2 Axes>"
            ]
          },
          "metadata": {
            "tags": [],
            "needs_background": "light"
          }
        }
      ]
    },
    {
      "cell_type": "markdown",
      "metadata": {
        "id": "4gdE9L-oHtCu"
      },
      "source": [
        "Kenapa hanya beberapa kolom saja yang terlihat nilai korelasinya, yakni hanya 9 kolom saja dari 12 kolom? Hal tersebut dikarenakan 3 kolom (yakni kolom \"Jenis_Kelamin\", \"Umur_Kendaraan\", dan \"Kendaraan_Rusak\") memiliki tipe string atau masih berupa kategorik. Sedangkan untuk melihat nilai korelasi dibutuhkan tipe data numerik, yaitu integer ataupun float."
      ]
    },
    {
      "cell_type": "code",
      "metadata": {
        "id": "On1xCQ-nHvWG",
        "colab": {
          "base_uri": "https://localhost:8080/",
          "height": 378
        },
        "outputId": "5951b891-27da-4e11-ecbc-7e018aebd2e8"
      },
      "source": [
        "# Melakukan visualisasi untuk kolom \"Tertarik\" pada data train\n",
        "\n",
        "plt.style.use(\"seaborn\")\n",
        "sns.countplot(x=\"Kendaraan_Rusak\", hue=\"Kendaraan_Rusak\", data=data_train)\n",
        "plt.figure(figsize=(7, 7))\n",
        "plt.show()"
      ],
      "execution_count": 6,
      "outputs": [
        {
          "output_type": "display_data",
          "data": {
            "image/png": "[encoded data removed]",
            "text/plain": [
              "<Figure size 576x396 with 1 Axes>"
            ]
          },
          "metadata": {
            "tags": []
          }
        },
        {
          "output_type": "display_data",
          "data": {
            "text/plain": [
              "<Figure size 504x504 with 0 Axes>"
            ]
          },
          "metadata": {
            "tags": []
          }
        }
      ]
    },
    {
      "cell_type": "code",
      "metadata": {
        "id": "mVrYeJ2mHwA-",
        "colab": {
          "base_uri": "https://localhost:8080/",
          "height": 378
        },
        "outputId": "da4ab121-7df2-4171-b6d2-e16a72aabe6d"
      },
      "source": [
        "# Melakukan visualisasi untuk kolom \"Tertarik\" pada data train\n",
        "\n",
        "plt.style.use(\"seaborn\")\n",
        "sns.countplot(x=\"Umur_Kendaraan\", hue=\"Umur_Kendaraan\", data=data_train)\n",
        "plt.figure(figsize=(7, 7))\n",
        "plt.show()"
      ],
      "execution_count": 7,
      "outputs": [
        {
          "output_type": "display_data",
          "data": {
            "image/png": "[encoded data removed]",
            "text/plain": [
              "<Figure size 576x396 with 1 Axes>"
            ]
          },
          "metadata": {
            "tags": []
          }
        },
        {
          "output_type": "display_data",
          "data": {
            "text/plain": [
              "<Figure size 504x504 with 0 Axes>"
            ]
          },
          "metadata": {
            "tags": []
          }
        }
      ]
    },
    {
      "cell_type": "code",
      "metadata": {
        "id": "QbMV6l5WHyEf",
        "colab": {
          "base_uri": "https://localhost:8080/",
          "height": 378
        },
        "outputId": "22278b02-ca3e-4063-852a-c51dbb259508"
      },
      "source": [
        "# Melakukan visualisasi untuk kolom \"Jenis_Kelamin\" pada data train\n",
        "\n",
        "plt.style.use(\"seaborn\")\n",
        "sns.countplot(x=\"Sudah_Asuransi\", hue=\"Sudah_Asuransi\", data=data_train)\n",
        "plt.figure(figsize=(7, 7))\n",
        "plt.show()"
      ],
      "execution_count": 8,
      "outputs": [
        {
          "output_type": "display_data",
          "data": {
            "image/png": "[encoded data removed]",
            "text/plain": [
              "<Figure size 576x396 with 1 Axes>"
            ]
          },
          "metadata": {
            "tags": []
          }
        },
        {
          "output_type": "display_data",
          "data": {
            "text/plain": [
              "<Figure size 504x504 with 0 Axes>"
            ]
          },
          "metadata": {
            "tags": []
          }
        }
      ]
    },
    {
      "cell_type": "markdown",
      "metadata": {
        "id": "OV-npw6oMBne"
      },
      "source": [
        "Setelah melakukan visualisasi sebelum nilai data yang ada di data_train dilakukan preprocessing, kami akan mengecek terlebih dahulu apakah di dalam data_train memiliki nilai data yang kosong/NaN atau sama sekali tidak mempunyainya.\n",
        "\n",
        "\n"
      ]
    },
    {
      "cell_type": "code",
      "metadata": {
        "id": "jKR-SoTWH4FW",
        "colab": {
          "base_uri": "https://localhost:8080/"
        },
        "outputId": "1fcdfea5-7b62-4081-92c7-4a847672a1a1"
      },
      "source": [
        "# Mengecek apakah di dalam data train terdapat nilai data yang NaN atau tidak\n",
        "\n",
        "data_train.isnull().sum()"
      ],
      "execution_count": 9,
      "outputs": [
        {
          "output_type": "execute_result",
          "data": {
            "text/plain": [
              "id                       0\n",
              "Jenis_Kelamin        14440\n",
              "Umur                 14214\n",
              "SIM                  14404\n",
              "Kode_Daerah          14306\n",
              "Sudah_Asuransi       14229\n",
              "Umur_Kendaraan       14275\n",
              "Kendaraan_Rusak      14188\n",
              "Premi                14569\n",
              "Kanal_Penjualan      14299\n",
              "Lama_Berlangganan    13992\n",
              "Tertarik                 0\n",
              "dtype: int64"
            ]
          },
          "metadata": {
            "tags": []
          },
          "execution_count": 9
        }
      ]
    },
    {
      "cell_type": "markdown",
      "metadata": {
        "id": "6Z_X2Pn7H7a3"
      },
      "source": [
        "Terlihat pada data train terdapat banyak sekali nilai data yang masih kosong. Maka langkah selanjutnya kami akan melakukan proses preprocessing untuk data train."
      ]
    },
    {
      "cell_type": "markdown",
      "metadata": {
        "id": "W5zZ9WDEH-bX"
      },
      "source": [
        "## 2. Preprocessing Data Train"
      ]
    },
    {
      "cell_type": "code",
      "metadata": {
        "id": "FSQzm9W7H-0e",
        "colab": {
          "base_uri": "https://localhost:8080/"
        },
        "outputId": "ddfe6852-08ea-4c66-fb52-eb2874515e53"
      },
      "source": [
        "data_train.info()"
      ],
      "execution_count": 10,
      "outputs": [
        {
          "output_type": "stream",
          "text": [
            "<class 'pandas.core.frame.DataFrame'>\n",
            "RangeIndex: 285831 entries, 0 to 285830\n",
            "Data columns (total 12 columns):\n",
            " #   Column             Non-Null Count   Dtype  \n",
            "---  ------             --------------   -----  \n",
            " 0   id                 285831 non-null  int64  \n",
            " 1   Jenis_Kelamin      271391 non-null  object \n",
            " 2   Umur               271617 non-null  float64\n",
            " 3   SIM                271427 non-null  float64\n",
            " 4   Kode_Daerah        271525 non-null  float64\n",
            " 5   Sudah_Asuransi     271602 non-null  float64\n",
            " 6   Umur_Kendaraan     271556 non-null  object \n",
            " 7   Kendaraan_Rusak    271643 non-null  object \n",
            " 8   Premi              271262 non-null  float64\n",
            " 9   Kanal_Penjualan    271532 non-null  float64\n",
            " 10  Lama_Berlangganan  271839 non-null  float64\n",
            " 11  Tertarik           285831 non-null  int64  \n",
            "dtypes: float64(7), int64(2), object(3)\n",
            "memory usage: 26.2+ MB\n"
          ],
          "name": "stdout"
        }
      ]
    },
    {
      "cell_type": "markdown",
      "metadata": {
        "id": "ym6aAytKICt2"
      },
      "source": [
        "Sebelum memasuki langkah preprocessing, kami akan memberi tahu bahwasanya ada beberapa tahapan yang kami lakukan di dalam preprocessing ini, diantaranya adalah:\n",
        "1. Mengisi nilai yang kosong menjadi nilai data yang sudah ditentukan agar tidak terjadi bias. Semisal nilai kosong yang terdapat di dalam kolom \"Umur_Kendaraan\" akan kami isi menjadi nilai \"> 2 Tahun\". Dan Kolom \"Kendaraan_Rusak\" akan kami isi nilai kosongnya menjadi \"Tidak\".\n",
        "2. Langsung mengubah kolom yang memiliki tipe data string menjadi integer.\n",
        "3. Menghapus kolom yang tidak diperlukan, karena jika dibiarkan akan sangat mempengaruhi tingkatan akurasi dan persebaran klasifikasi yang kurang baik.\n",
        "4. Karena pada data train masih banyak sekali terdapat nilai yang kosong/NaN, sisanya akan kami isi dengan nilai rata-rata yang dimiliki oleh masing-masing kolom."
      ]
    },
    {
      "cell_type": "code",
      "metadata": {
        "id": "rIPzOGiEIDH2",
        "colab": {
          "base_uri": "https://localhost:8080/",
          "height": 0
        },
        "outputId": "4817c329-1d9c-45cd-afd4-7ab9cbe965a2"
      },
      "source": [
        "# Mulai mengganti nilai NaN pada kolom \"Umur_Kendaraan\" menjadi nilai yaitu \"> 2 Tahun\"\n",
        "data_train[\"Umur_Kendaraan\"] = data_train[\"Umur_Kendaraan\"].fillna(\"> 2 Tahun\")\n",
        "\n",
        "# Mulai mengganti nilai NaN pada kolom \"Kendaraan_Rusak\" menjadi nilai yaitu \"Tidak\"\n",
        "data_train[\"Kendaraan_Rusak\"] = data_train[\"Kendaraan_Rusak\"].fillna(\"Tidak\")\n",
        "\n",
        "data_train.head()"
      ],
      "execution_count": 11,
      "outputs": [
        {
          "output_type": "execute_result",
          "data": {
            "text/html": [
              "<div>\n",
              "<style scoped>\n",
              "    .dataframe tbody tr th:only-of-type {\n",
              "        vertical-align: middle;\n",
              "    }\n",
              "\n",
              "    .dataframe tbody tr th {\n",
              "        vertical-align: top;\n",
              "    }\n",
              "\n",
              "    .dataframe thead th {\n",
              "        text-align: right;\n",
              "    }\n",
              "</style>\n",
              "<table border=\"1\" class=\"dataframe\">\n",
              "  <thead>\n",
              "    <tr style=\"text-align: right;\">\n",
              "      <th></th>\n",
              "      <th>id</th>\n",
              "      <th>Jenis_Kelamin</th>\n",
              "      <th>Umur</th>\n",
              "      <th>SIM</th>\n",
              "      <th>Kode_Daerah</th>\n",
              "      <th>Sudah_Asuransi</th>\n",
              "      <th>Umur_Kendaraan</th>\n",
              "      <th>Kendaraan_Rusak</th>\n",
              "      <th>Premi</th>\n",
              "      <th>Kanal_Penjualan</th>\n",
              "      <th>Lama_Berlangganan</th>\n",
              "      <th>Tertarik</th>\n",
              "    </tr>\n",
              "  </thead>\n",
              "  <tbody>\n",
              "    <tr>\n",
              "      <th>0</th>\n",
              "      <td>1</td>\n",
              "      <td>Wanita</td>\n",
              "      <td>30.0</td>\n",
              "      <td>1.0</td>\n",
              "      <td>33.0</td>\n",
              "      <td>1.0</td>\n",
              "      <td>&lt; 1 Tahun</td>\n",
              "      <td>Tidak</td>\n",
              "      <td>28029.0</td>\n",
              "      <td>152.0</td>\n",
              "      <td>97.0</td>\n",
              "      <td>0</td>\n",
              "    </tr>\n",
              "    <tr>\n",
              "      <th>1</th>\n",
              "      <td>2</td>\n",
              "      <td>Pria</td>\n",
              "      <td>48.0</td>\n",
              "      <td>1.0</td>\n",
              "      <td>39.0</td>\n",
              "      <td>0.0</td>\n",
              "      <td>&gt; 2 Tahun</td>\n",
              "      <td>Pernah</td>\n",
              "      <td>25800.0</td>\n",
              "      <td>29.0</td>\n",
              "      <td>158.0</td>\n",
              "      <td>0</td>\n",
              "    </tr>\n",
              "    <tr>\n",
              "      <th>2</th>\n",
              "      <td>3</td>\n",
              "      <td>NaN</td>\n",
              "      <td>21.0</td>\n",
              "      <td>1.0</td>\n",
              "      <td>46.0</td>\n",
              "      <td>1.0</td>\n",
              "      <td>&lt; 1 Tahun</td>\n",
              "      <td>Tidak</td>\n",
              "      <td>32733.0</td>\n",
              "      <td>160.0</td>\n",
              "      <td>119.0</td>\n",
              "      <td>0</td>\n",
              "    </tr>\n",
              "    <tr>\n",
              "      <th>3</th>\n",
              "      <td>4</td>\n",
              "      <td>Wanita</td>\n",
              "      <td>58.0</td>\n",
              "      <td>1.0</td>\n",
              "      <td>48.0</td>\n",
              "      <td>0.0</td>\n",
              "      <td>1-2 Tahun</td>\n",
              "      <td>Tidak</td>\n",
              "      <td>2630.0</td>\n",
              "      <td>124.0</td>\n",
              "      <td>63.0</td>\n",
              "      <td>0</td>\n",
              "    </tr>\n",
              "    <tr>\n",
              "      <th>4</th>\n",
              "      <td>5</td>\n",
              "      <td>Pria</td>\n",
              "      <td>50.0</td>\n",
              "      <td>1.0</td>\n",
              "      <td>35.0</td>\n",
              "      <td>0.0</td>\n",
              "      <td>&gt; 2 Tahun</td>\n",
              "      <td>Tidak</td>\n",
              "      <td>34857.0</td>\n",
              "      <td>88.0</td>\n",
              "      <td>194.0</td>\n",
              "      <td>0</td>\n",
              "    </tr>\n",
              "  </tbody>\n",
              "</table>\n",
              "</div>"
            ],
            "text/plain": [
              "   id Jenis_Kelamin  Umur  ...  Kanal_Penjualan  Lama_Berlangganan  Tertarik\n",
              "0   1        Wanita  30.0  ...            152.0               97.0         0\n",
              "1   2          Pria  48.0  ...             29.0              158.0         0\n",
              "2   3           NaN  21.0  ...            160.0              119.0         0\n",
              "3   4        Wanita  58.0  ...            124.0               63.0         0\n",
              "4   5          Pria  50.0  ...             88.0              194.0         0\n",
              "\n",
              "[5 rows x 12 columns]"
            ]
          },
          "metadata": {
            "tags": []
          },
          "execution_count": 11
        }
      ]
    },
    {
      "cell_type": "code",
      "metadata": {
        "id": "fUStNp3FIFJP",
        "colab": {
          "base_uri": "https://localhost:8080/",
          "height": 0
        },
        "outputId": "82dc5283-1249-4c1a-839c-f10ac3ceca80"
      },
      "source": [
        "# Menghapus Beberapa kolom yang tidak dibutuhkan\n",
        "\n",
        "data_train = data_train.drop([\"id\", \"Jenis_Kelamin\", \"SIM\", \"Kode_Daerah\", \"Premi\", \"Kanal_Penjualan\"], axis = 1)\n",
        "data_train.head()"
      ],
      "execution_count": 12,
      "outputs": [
        {
          "output_type": "execute_result",
          "data": {
            "text/html": [
              "<div>\n",
              "<style scoped>\n",
              "    .dataframe tbody tr th:only-of-type {\n",
              "        vertical-align: middle;\n",
              "    }\n",
              "\n",
              "    .dataframe tbody tr th {\n",
              "        vertical-align: top;\n",
              "    }\n",
              "\n",
              "    .dataframe thead th {\n",
              "        text-align: right;\n",
              "    }\n",
              "</style>\n",
              "<table border=\"1\" class=\"dataframe\">\n",
              "  <thead>\n",
              "    <tr style=\"text-align: right;\">\n",
              "      <th></th>\n",
              "      <th>Umur</th>\n",
              "      <th>Sudah_Asuransi</th>\n",
              "      <th>Umur_Kendaraan</th>\n",
              "      <th>Kendaraan_Rusak</th>\n",
              "      <th>Lama_Berlangganan</th>\n",
              "      <th>Tertarik</th>\n",
              "    </tr>\n",
              "  </thead>\n",
              "  <tbody>\n",
              "    <tr>\n",
              "      <th>0</th>\n",
              "      <td>30.0</td>\n",
              "      <td>1.0</td>\n",
              "      <td>&lt; 1 Tahun</td>\n",
              "      <td>Tidak</td>\n",
              "      <td>97.0</td>\n",
              "      <td>0</td>\n",
              "    </tr>\n",
              "    <tr>\n",
              "      <th>1</th>\n",
              "      <td>48.0</td>\n",
              "      <td>0.0</td>\n",
              "      <td>&gt; 2 Tahun</td>\n",
              "      <td>Pernah</td>\n",
              "      <td>158.0</td>\n",
              "      <td>0</td>\n",
              "    </tr>\n",
              "    <tr>\n",
              "      <th>2</th>\n",
              "      <td>21.0</td>\n",
              "      <td>1.0</td>\n",
              "      <td>&lt; 1 Tahun</td>\n",
              "      <td>Tidak</td>\n",
              "      <td>119.0</td>\n",
              "      <td>0</td>\n",
              "    </tr>\n",
              "    <tr>\n",
              "      <th>3</th>\n",
              "      <td>58.0</td>\n",
              "      <td>0.0</td>\n",
              "      <td>1-2 Tahun</td>\n",
              "      <td>Tidak</td>\n",
              "      <td>63.0</td>\n",
              "      <td>0</td>\n",
              "    </tr>\n",
              "    <tr>\n",
              "      <th>4</th>\n",
              "      <td>50.0</td>\n",
              "      <td>0.0</td>\n",
              "      <td>&gt; 2 Tahun</td>\n",
              "      <td>Tidak</td>\n",
              "      <td>194.0</td>\n",
              "      <td>0</td>\n",
              "    </tr>\n",
              "  </tbody>\n",
              "</table>\n",
              "</div>"
            ],
            "text/plain": [
              "   Umur  Sudah_Asuransi  ... Lama_Berlangganan Tertarik\n",
              "0  30.0             1.0  ...              97.0        0\n",
              "1  48.0             0.0  ...             158.0        0\n",
              "2  21.0             1.0  ...             119.0        0\n",
              "3  58.0             0.0  ...              63.0        0\n",
              "4  50.0             0.0  ...             194.0        0\n",
              "\n",
              "[5 rows x 6 columns]"
            ]
          },
          "metadata": {
            "tags": []
          },
          "execution_count": 12
        }
      ]
    },
    {
      "cell_type": "code",
      "metadata": {
        "id": "IYfz7Z-MIIEm",
        "colab": {
          "base_uri": "https://localhost:8080/",
          "height": 0
        },
        "outputId": "88ff1bb8-9330-4a1a-9af2-5083ea9f6dc3"
      },
      "source": [
        "# Mengubah tipe data dari kolom yang memiliki nilai kategorik/string menjadi integer/numerik\n",
        "\n",
        "from sklearn.preprocessing import LabelEncoder\n",
        "\n",
        "le = LabelEncoder()\n",
        "\n",
        "data_train[\"Sudah_Asuransi\"] = le.fit_transform(data_train[\"Sudah_Asuransi\"])\n",
        "data_train[\"Umur_Kendaraan\"] = le.fit_transform(data_train[\"Umur_Kendaraan\"])\n",
        "data_train[\"Kendaraan_Rusak\"] = le.fit_transform(data_train[\"Kendaraan_Rusak\"])\n",
        "\n",
        "data_train.head()"
      ],
      "execution_count": 13,
      "outputs": [
        {
          "output_type": "execute_result",
          "data": {
            "text/html": [
              "<div>\n",
              "<style scoped>\n",
              "    .dataframe tbody tr th:only-of-type {\n",
              "        vertical-align: middle;\n",
              "    }\n",
              "\n",
              "    .dataframe tbody tr th {\n",
              "        vertical-align: top;\n",
              "    }\n",
              "\n",
              "    .dataframe thead th {\n",
              "        text-align: right;\n",
              "    }\n",
              "</style>\n",
              "<table border=\"1\" class=\"dataframe\">\n",
              "  <thead>\n",
              "    <tr style=\"text-align: right;\">\n",
              "      <th></th>\n",
              "      <th>Umur</th>\n",
              "      <th>Sudah_Asuransi</th>\n",
              "      <th>Umur_Kendaraan</th>\n",
              "      <th>Kendaraan_Rusak</th>\n",
              "      <th>Lama_Berlangganan</th>\n",
              "      <th>Tertarik</th>\n",
              "    </tr>\n",
              "  </thead>\n",
              "  <tbody>\n",
              "    <tr>\n",
              "      <th>0</th>\n",
              "      <td>30.0</td>\n",
              "      <td>1</td>\n",
              "      <td>1</td>\n",
              "      <td>1</td>\n",
              "      <td>97.0</td>\n",
              "      <td>0</td>\n",
              "    </tr>\n",
              "    <tr>\n",
              "      <th>1</th>\n",
              "      <td>48.0</td>\n",
              "      <td>0</td>\n",
              "      <td>2</td>\n",
              "      <td>0</td>\n",
              "      <td>158.0</td>\n",
              "      <td>0</td>\n",
              "    </tr>\n",
              "    <tr>\n",
              "      <th>2</th>\n",
              "      <td>21.0</td>\n",
              "      <td>1</td>\n",
              "      <td>1</td>\n",
              "      <td>1</td>\n",
              "      <td>119.0</td>\n",
              "      <td>0</td>\n",
              "    </tr>\n",
              "    <tr>\n",
              "      <th>3</th>\n",
              "      <td>58.0</td>\n",
              "      <td>0</td>\n",
              "      <td>0</td>\n",
              "      <td>1</td>\n",
              "      <td>63.0</td>\n",
              "      <td>0</td>\n",
              "    </tr>\n",
              "    <tr>\n",
              "      <th>4</th>\n",
              "      <td>50.0</td>\n",
              "      <td>0</td>\n",
              "      <td>2</td>\n",
              "      <td>1</td>\n",
              "      <td>194.0</td>\n",
              "      <td>0</td>\n",
              "    </tr>\n",
              "  </tbody>\n",
              "</table>\n",
              "</div>"
            ],
            "text/plain": [
              "   Umur  Sudah_Asuransi  ...  Lama_Berlangganan  Tertarik\n",
              "0  30.0               1  ...               97.0         0\n",
              "1  48.0               0  ...              158.0         0\n",
              "2  21.0               1  ...              119.0         0\n",
              "3  58.0               0  ...               63.0         0\n",
              "4  50.0               0  ...              194.0         0\n",
              "\n",
              "[5 rows x 6 columns]"
            ]
          },
          "metadata": {
            "tags": []
          },
          "execution_count": 13
        }
      ]
    },
    {
      "cell_type": "code",
      "metadata": {
        "id": "Szhb3CrKILIO",
        "colab": {
          "base_uri": "https://localhost:8080/",
          "height": 0
        },
        "outputId": "cace1ebc-baff-4f64-b390-c7d719705395"
      },
      "source": [
        "# Melihat data desktriptif dari setiap kolom yang ada di data train\n",
        "\n",
        "data_train.describe()"
      ],
      "execution_count": 14,
      "outputs": [
        {
          "output_type": "execute_result",
          "data": {
            "text/html": [
              "<div>\n",
              "<style scoped>\n",
              "    .dataframe tbody tr th:only-of-type {\n",
              "        vertical-align: middle;\n",
              "    }\n",
              "\n",
              "    .dataframe tbody tr th {\n",
              "        vertical-align: top;\n",
              "    }\n",
              "\n",
              "    .dataframe thead th {\n",
              "        text-align: right;\n",
              "    }\n",
              "</style>\n",
              "<table border=\"1\" class=\"dataframe\">\n",
              "  <thead>\n",
              "    <tr style=\"text-align: right;\">\n",
              "      <th></th>\n",
              "      <th>Umur</th>\n",
              "      <th>Sudah_Asuransi</th>\n",
              "      <th>Umur_Kendaraan</th>\n",
              "      <th>Kendaraan_Rusak</th>\n",
              "      <th>Lama_Berlangganan</th>\n",
              "      <th>Tertarik</th>\n",
              "    </tr>\n",
              "  </thead>\n",
              "  <tbody>\n",
              "    <tr>\n",
              "      <th>count</th>\n",
              "      <td>271617.000000</td>\n",
              "      <td>285831.000000</td>\n",
              "      <td>285831.000000</td>\n",
              "      <td>285831.000000</td>\n",
              "      <td>271839.000000</td>\n",
              "      <td>285831.000000</td>\n",
              "    </tr>\n",
              "    <tr>\n",
              "      <th>mean</th>\n",
              "      <td>38.844336</td>\n",
              "      <td>354.678705</td>\n",
              "      <td>0.590426</td>\n",
              "      <td>0.520265</td>\n",
              "      <td>154.286302</td>\n",
              "      <td>0.122471</td>\n",
              "    </tr>\n",
              "    <tr>\n",
              "      <th>std</th>\n",
              "      <td>15.522487</td>\n",
              "      <td>1798.587202</td>\n",
              "      <td>0.649304</td>\n",
              "      <td>0.499590</td>\n",
              "      <td>83.694910</td>\n",
              "      <td>0.327830</td>\n",
              "    </tr>\n",
              "    <tr>\n",
              "      <th>min</th>\n",
              "      <td>20.000000</td>\n",
              "      <td>0.000000</td>\n",
              "      <td>0.000000</td>\n",
              "      <td>0.000000</td>\n",
              "      <td>10.000000</td>\n",
              "      <td>0.000000</td>\n",
              "    </tr>\n",
              "    <tr>\n",
              "      <th>25%</th>\n",
              "      <td>25.000000</td>\n",
              "      <td>0.000000</td>\n",
              "      <td>0.000000</td>\n",
              "      <td>0.000000</td>\n",
              "      <td>82.000000</td>\n",
              "      <td>0.000000</td>\n",
              "    </tr>\n",
              "    <tr>\n",
              "      <th>50%</th>\n",
              "      <td>36.000000</td>\n",
              "      <td>0.000000</td>\n",
              "      <td>1.000000</td>\n",
              "      <td>1.000000</td>\n",
              "      <td>154.000000</td>\n",
              "      <td>0.000000</td>\n",
              "    </tr>\n",
              "    <tr>\n",
              "      <th>75%</th>\n",
              "      <td>49.000000</td>\n",
              "      <td>1.000000</td>\n",
              "      <td>1.000000</td>\n",
              "      <td>1.000000</td>\n",
              "      <td>227.000000</td>\n",
              "      <td>0.000000</td>\n",
              "    </tr>\n",
              "    <tr>\n",
              "      <th>max</th>\n",
              "      <td>85.000000</td>\n",
              "      <td>14230.000000</td>\n",
              "      <td>2.000000</td>\n",
              "      <td>1.000000</td>\n",
              "      <td>299.000000</td>\n",
              "      <td>1.000000</td>\n",
              "    </tr>\n",
              "  </tbody>\n",
              "</table>\n",
              "</div>"
            ],
            "text/plain": [
              "                Umur  Sudah_Asuransi  ...  Lama_Berlangganan       Tertarik\n",
              "count  271617.000000   285831.000000  ...      271839.000000  285831.000000\n",
              "mean       38.844336      354.678705  ...         154.286302       0.122471\n",
              "std        15.522487     1798.587202  ...          83.694910       0.327830\n",
              "min        20.000000        0.000000  ...          10.000000       0.000000\n",
              "25%        25.000000        0.000000  ...          82.000000       0.000000\n",
              "50%        36.000000        0.000000  ...         154.000000       0.000000\n",
              "75%        49.000000        1.000000  ...         227.000000       0.000000\n",
              "max        85.000000    14230.000000  ...         299.000000       1.000000\n",
              "\n",
              "[8 rows x 6 columns]"
            ]
          },
          "metadata": {
            "tags": []
          },
          "execution_count": 14
        }
      ]
    },
    {
      "cell_type": "code",
      "metadata": {
        "id": "4PAW3UIbIO_f",
        "colab": {
          "base_uri": "https://localhost:8080/",
          "height": 0
        },
        "outputId": "cc0f87ec-b31b-4306-bbf3-da1df924ed7e"
      },
      "source": [
        "# Karena kolom \"Umur\" masih memiliki nilai NaN, maka kami akan mengganti/mengisinya nilai NaN menjadi nilai Mean\n",
        "\n",
        "mean = data_train.mean()\n",
        "data_train = data_train.replace(np.nan, mean)\n",
        "data_train.head(15)"
      ],
      "execution_count": 15,
      "outputs": [
        {
          "output_type": "execute_result",
          "data": {
            "text/html": [
              "<div>\n",
              "<style scoped>\n",
              "    .dataframe tbody tr th:only-of-type {\n",
              "        vertical-align: middle;\n",
              "    }\n",
              "\n",
              "    .dataframe tbody tr th {\n",
              "        vertical-align: top;\n",
              "    }\n",
              "\n",
              "    .dataframe thead th {\n",
              "        text-align: right;\n",
              "    }\n",
              "</style>\n",
              "<table border=\"1\" class=\"dataframe\">\n",
              "  <thead>\n",
              "    <tr style=\"text-align: right;\">\n",
              "      <th></th>\n",
              "      <th>Umur</th>\n",
              "      <th>Sudah_Asuransi</th>\n",
              "      <th>Umur_Kendaraan</th>\n",
              "      <th>Kendaraan_Rusak</th>\n",
              "      <th>Lama_Berlangganan</th>\n",
              "      <th>Tertarik</th>\n",
              "    </tr>\n",
              "  </thead>\n",
              "  <tbody>\n",
              "    <tr>\n",
              "      <th>0</th>\n",
              "      <td>30.000000</td>\n",
              "      <td>1</td>\n",
              "      <td>1</td>\n",
              "      <td>1</td>\n",
              "      <td>97.0</td>\n",
              "      <td>0</td>\n",
              "    </tr>\n",
              "    <tr>\n",
              "      <th>1</th>\n",
              "      <td>48.000000</td>\n",
              "      <td>0</td>\n",
              "      <td>2</td>\n",
              "      <td>0</td>\n",
              "      <td>158.0</td>\n",
              "      <td>0</td>\n",
              "    </tr>\n",
              "    <tr>\n",
              "      <th>2</th>\n",
              "      <td>21.000000</td>\n",
              "      <td>1</td>\n",
              "      <td>1</td>\n",
              "      <td>1</td>\n",
              "      <td>119.0</td>\n",
              "      <td>0</td>\n",
              "    </tr>\n",
              "    <tr>\n",
              "      <th>3</th>\n",
              "      <td>58.000000</td>\n",
              "      <td>0</td>\n",
              "      <td>0</td>\n",
              "      <td>1</td>\n",
              "      <td>63.0</td>\n",
              "      <td>0</td>\n",
              "    </tr>\n",
              "    <tr>\n",
              "      <th>4</th>\n",
              "      <td>50.000000</td>\n",
              "      <td>0</td>\n",
              "      <td>2</td>\n",
              "      <td>1</td>\n",
              "      <td>194.0</td>\n",
              "      <td>0</td>\n",
              "    </tr>\n",
              "    <tr>\n",
              "      <th>5</th>\n",
              "      <td>21.000000</td>\n",
              "      <td>1</td>\n",
              "      <td>1</td>\n",
              "      <td>1</td>\n",
              "      <td>171.0</td>\n",
              "      <td>0</td>\n",
              "    </tr>\n",
              "    <tr>\n",
              "      <th>6</th>\n",
              "      <td>33.000000</td>\n",
              "      <td>0</td>\n",
              "      <td>2</td>\n",
              "      <td>0</td>\n",
              "      <td>215.0</td>\n",
              "      <td>1</td>\n",
              "    </tr>\n",
              "    <tr>\n",
              "      <th>7</th>\n",
              "      <td>23.000000</td>\n",
              "      <td>1</td>\n",
              "      <td>1</td>\n",
              "      <td>1</td>\n",
              "      <td>222.0</td>\n",
              "      <td>0</td>\n",
              "    </tr>\n",
              "    <tr>\n",
              "      <th>8</th>\n",
              "      <td>20.000000</td>\n",
              "      <td>1</td>\n",
              "      <td>1</td>\n",
              "      <td>1</td>\n",
              "      <td>31.0</td>\n",
              "      <td>0</td>\n",
              "    </tr>\n",
              "    <tr>\n",
              "      <th>9</th>\n",
              "      <td>54.000000</td>\n",
              "      <td>0</td>\n",
              "      <td>2</td>\n",
              "      <td>0</td>\n",
              "      <td>28.0</td>\n",
              "      <td>1</td>\n",
              "    </tr>\n",
              "    <tr>\n",
              "      <th>10</th>\n",
              "      <td>25.000000</td>\n",
              "      <td>1</td>\n",
              "      <td>1</td>\n",
              "      <td>1</td>\n",
              "      <td>282.0</td>\n",
              "      <td>0</td>\n",
              "    </tr>\n",
              "    <tr>\n",
              "      <th>11</th>\n",
              "      <td>38.844336</td>\n",
              "      <td>1</td>\n",
              "      <td>1</td>\n",
              "      <td>1</td>\n",
              "      <td>210.0</td>\n",
              "      <td>0</td>\n",
              "    </tr>\n",
              "    <tr>\n",
              "      <th>12</th>\n",
              "      <td>21.000000</td>\n",
              "      <td>1</td>\n",
              "      <td>1</td>\n",
              "      <td>1</td>\n",
              "      <td>232.0</td>\n",
              "      <td>0</td>\n",
              "    </tr>\n",
              "    <tr>\n",
              "      <th>13</th>\n",
              "      <td>21.000000</td>\n",
              "      <td>1</td>\n",
              "      <td>1</td>\n",
              "      <td>1</td>\n",
              "      <td>140.0</td>\n",
              "      <td>0</td>\n",
              "    </tr>\n",
              "    <tr>\n",
              "      <th>14</th>\n",
              "      <td>66.000000</td>\n",
              "      <td>1</td>\n",
              "      <td>0</td>\n",
              "      <td>1</td>\n",
              "      <td>281.0</td>\n",
              "      <td>0</td>\n",
              "    </tr>\n",
              "  </tbody>\n",
              "</table>\n",
              "</div>"
            ],
            "text/plain": [
              "         Umur  Sudah_Asuransi  ...  Lama_Berlangganan  Tertarik\n",
              "0   30.000000               1  ...               97.0         0\n",
              "1   48.000000               0  ...              158.0         0\n",
              "2   21.000000               1  ...              119.0         0\n",
              "3   58.000000               0  ...               63.0         0\n",
              "4   50.000000               0  ...              194.0         0\n",
              "5   21.000000               1  ...              171.0         0\n",
              "6   33.000000               0  ...              215.0         1\n",
              "7   23.000000               1  ...              222.0         0\n",
              "8   20.000000               1  ...               31.0         0\n",
              "9   54.000000               0  ...               28.0         1\n",
              "10  25.000000               1  ...              282.0         0\n",
              "11  38.844336               1  ...              210.0         0\n",
              "12  21.000000               1  ...              232.0         0\n",
              "13  21.000000               1  ...              140.0         0\n",
              "14  66.000000               1  ...              281.0         0\n",
              "\n",
              "[15 rows x 6 columns]"
            ]
          },
          "metadata": {
            "tags": []
          },
          "execution_count": 15
        }
      ]
    },
    {
      "cell_type": "markdown",
      "metadata": {
        "id": "_X9v0oppIRDX"
      },
      "source": [
        "Dapat dilihat bahwasanya nilai NaN sudah tidak ada karena sudah diisi atau digantikan dengan nilai mean yang ada di dalam setiap kolom. Sebagai contoh pada kolom \"Umur\" memiliki nilai rata-rata yaitu 38.844336. Maka dari itu jika dilihat pada nilai indeks ke-11, yang sebelumnya memiliki nilai NaN atau tidak ada nilai, kini telah terisi oleh nilai 38.844336 karena di dalam script yang kami gunakan, kami mengisinya dengan nilai mean atau nilai rata-rata yang dimiliki oleh masing-masing kolom, sehingga karena kolom \"Umur\" memiliki nilai rata-rata yaitu 38.844336, maka nilai kosong yang ada (NaN) akan terisi menjadi 38.844336."
      ]
    },
    {
      "cell_type": "code",
      "metadata": {
        "id": "QK6GR6OwIRhX",
        "colab": {
          "base_uri": "https://localhost:8080/"
        },
        "outputId": "2e5c29a2-c62f-4a4d-8f83-6e5fbfb22660"
      },
      "source": [
        "# Mengecek kembali apakah masih terdapat nilai yang masih kosong atau tidak di dalam data train\n",
        "\n",
        "data_train.isnull().sum()"
      ],
      "execution_count": 16,
      "outputs": [
        {
          "output_type": "execute_result",
          "data": {
            "text/plain": [
              "Umur                 0\n",
              "Sudah_Asuransi       0\n",
              "Umur_Kendaraan       0\n",
              "Kendaraan_Rusak      0\n",
              "Lama_Berlangganan    0\n",
              "Tertarik             0\n",
              "dtype: int64"
            ]
          },
          "metadata": {
            "tags": []
          },
          "execution_count": 16
        }
      ]
    },
    {
      "cell_type": "markdown",
      "metadata": {
        "id": "BcFsTzjuIWbn"
      },
      "source": [
        "Dapat dilihat bahwasanya nilai NaN sudah tidak ada karena sudah diisi atau digantikan dengan nilai mean yang ada di dalam setiap kolom. Maka selanjutnya kami akan membuat visualisasi kembali dari beberapa kolom setelah dilakukan tahapan preprocessing."
      ]
    },
    {
      "cell_type": "markdown",
      "metadata": {
        "id": "7NLRJZhLIbNO"
      },
      "source": [
        "## 3. Visualisasi Setelah Preprocessing Pada Data Train"
      ]
    },
    {
      "cell_type": "code",
      "metadata": {
        "id": "ow5vw9UqIegP",
        "colab": {
          "base_uri": "https://localhost:8080/",
          "height": 0
        },
        "outputId": "d4e3b13d-5bb8-47fb-9500-71536503da13"
      },
      "source": [
        "# Membuat visualisasi untuk menampilkan nilai korelasi agar dapat melihat perbedaan visualisasi antara sebelum di preprocessing\n",
        "# dan sesudah di preprocessing\n",
        "\n",
        "plt.figure(figsize=(10, 5))\n",
        "\n",
        "korelasi_data_train = sns.heatmap(data_train.corr(), cmap=\"cool\", annot=True)\n",
        "korelasi_data_train.set_title(\"Korelasi Data Train Setelah Di Lakukan Tahapan Preprocessing\", fontdict={\"fontsize\":12}, pad=12);"
      ],
      "execution_count": 17,
      "outputs": [
        {
          "output_type": "display_data",
          "data": {
            "image/png": "[encoded data removed]",
            "text/plain": [
              "<Figure size 720x360 with 2 Axes>"
            ]
          },
          "metadata": {
            "tags": []
          }
        }
      ]
    },
    {
      "cell_type": "code",
      "metadata": {
        "id": "wC84uW16IbyW",
        "colab": {
          "base_uri": "https://localhost:8080/",
          "height": 0
        },
        "outputId": "7b8dc4d6-b869-492d-bdb2-ff2dbbbdad7c"
      },
      "source": [
        "# Melakukan visualisasi untuk kolom \"Tertarik\" pada data train\n",
        "\n",
        "plt.style.use(\"seaborn\")\n",
        "sns.countplot(x=\"Tertarik\", hue=\"Tertarik\", data=data_train)\n",
        "plt.figure(figsize=(7, 7))\n",
        "plt.show()"
      ],
      "execution_count": 18,
      "outputs": [
        {
          "output_type": "display_data",
          "data": {
            "image/png": "[encoded data removed]",
            "text/plain": [
              "<Figure size 576x396 with 1 Axes>"
            ]
          },
          "metadata": {
            "tags": []
          }
        },
        {
          "output_type": "display_data",
          "data": {
            "text/plain": [
              "<Figure size 504x504 with 0 Axes>"
            ]
          },
          "metadata": {
            "tags": []
          }
        }
      ]
    },
    {
      "cell_type": "code",
      "metadata": {
        "id": "YX9rRestIf8O",
        "colab": {
          "base_uri": "https://localhost:8080/",
          "height": 0
        },
        "outputId": "3f7610b1-ec56-4538-86c5-0681d8d9d135"
      },
      "source": [
        "# Melakukan visualisasi untuk kolom \"Kendaraan_Rusak\" pada data train\n",
        "\n",
        "plt.style.use(\"seaborn\")\n",
        "sns.countplot(x=\"Kendaraan_Rusak\", hue=\"Kendaraan_Rusak\", data=data_train)\n",
        "plt.figure(figsize=(7, 7))\n",
        "plt.show()"
      ],
      "execution_count": 19,
      "outputs": [
        {
          "output_type": "display_data",
          "data": {
            "image/png": "[encoded data removed]",
            "text/plain": [
              "<Figure size 576x396 with 1 Axes>"
            ]
          },
          "metadata": {
            "tags": []
          }
        },
        {
          "output_type": "display_data",
          "data": {
            "text/plain": [
              "<Figure size 504x504 with 0 Axes>"
            ]
          },
          "metadata": {
            "tags": []
          }
        }
      ]
    },
    {
      "cell_type": "code",
      "metadata": {
        "id": "ynMYkuPuIhTf",
        "colab": {
          "base_uri": "https://localhost:8080/",
          "height": 0
        },
        "outputId": "e9272688-6840-4eb0-c30d-5470ef9bd0d4"
      },
      "source": [
        "# Melakukan visualisasi untuk kolom \"Tertarik\" pada data train\n",
        "\n",
        "plt.style.use(\"seaborn\")\n",
        "sns.countplot(x=\"Umur_Kendaraan\", hue=\"Umur_Kendaraan\", data=data_train)\n",
        "plt.figure(figsize=(7, 7))\n",
        "plt.show()"
      ],
      "execution_count": 20,
      "outputs": [
        {
          "output_type": "display_data",
          "data": {
            "image/png": "[encoded data removed]",
            "text/plain": [
              "<Figure size 576x396 with 1 Axes>"
            ]
          },
          "metadata": {
            "tags": []
          }
        },
        {
          "output_type": "display_data",
          "data": {
            "text/plain": [
              "<Figure size 504x504 with 0 Axes>"
            ]
          },
          "metadata": {
            "tags": []
          }
        }
      ]
    },
    {
      "cell_type": "markdown",
      "metadata": {
        "id": "R8bRguQgIkPp"
      },
      "source": [
        "## 4. Preprocessing + Visualisasi Pada Data Test"
      ]
    },
    {
      "cell_type": "code",
      "metadata": {
        "id": "m9DrY1VaIkmQ",
        "colab": {
          "base_uri": "https://localhost:8080/",
          "height": 0
        },
        "outputId": "9ccb27cc-c2a9-4208-8aac-0936d9abc948"
      },
      "source": [
        "data_test.head()"
      ],
      "execution_count": 21,
      "outputs": [
        {
          "output_type": "execute_result",
          "data": {
            "text/html": [
              "<div>\n",
              "<style scoped>\n",
              "    .dataframe tbody tr th:only-of-type {\n",
              "        vertical-align: middle;\n",
              "    }\n",
              "\n",
              "    .dataframe tbody tr th {\n",
              "        vertical-align: top;\n",
              "    }\n",
              "\n",
              "    .dataframe thead th {\n",
              "        text-align: right;\n",
              "    }\n",
              "</style>\n",
              "<table border=\"1\" class=\"dataframe\">\n",
              "  <thead>\n",
              "    <tr style=\"text-align: right;\">\n",
              "      <th></th>\n",
              "      <th>Jenis_Kelamin</th>\n",
              "      <th>Umur</th>\n",
              "      <th>SIM</th>\n",
              "      <th>Kode_Daerah</th>\n",
              "      <th>Sudah_Asuransi</th>\n",
              "      <th>Umur_Kendaraan</th>\n",
              "      <th>Kendaraan_Rusak</th>\n",
              "      <th>Premi</th>\n",
              "      <th>Kanal_Penjualan</th>\n",
              "      <th>Lama_Berlangganan</th>\n",
              "      <th>Tertarik</th>\n",
              "    </tr>\n",
              "  </thead>\n",
              "  <tbody>\n",
              "    <tr>\n",
              "      <th>0</th>\n",
              "      <td>Wanita</td>\n",
              "      <td>49</td>\n",
              "      <td>1</td>\n",
              "      <td>8</td>\n",
              "      <td>0</td>\n",
              "      <td>1-2 Tahun</td>\n",
              "      <td>Pernah</td>\n",
              "      <td>46963</td>\n",
              "      <td>26</td>\n",
              "      <td>145</td>\n",
              "      <td>0</td>\n",
              "    </tr>\n",
              "    <tr>\n",
              "      <th>1</th>\n",
              "      <td>Pria</td>\n",
              "      <td>22</td>\n",
              "      <td>1</td>\n",
              "      <td>47</td>\n",
              "      <td>1</td>\n",
              "      <td>&lt; 1 Tahun</td>\n",
              "      <td>Tidak</td>\n",
              "      <td>39624</td>\n",
              "      <td>152</td>\n",
              "      <td>241</td>\n",
              "      <td>0</td>\n",
              "    </tr>\n",
              "    <tr>\n",
              "      <th>2</th>\n",
              "      <td>Pria</td>\n",
              "      <td>24</td>\n",
              "      <td>1</td>\n",
              "      <td>28</td>\n",
              "      <td>1</td>\n",
              "      <td>&lt; 1 Tahun</td>\n",
              "      <td>Tidak</td>\n",
              "      <td>110479</td>\n",
              "      <td>152</td>\n",
              "      <td>62</td>\n",
              "      <td>0</td>\n",
              "    </tr>\n",
              "    <tr>\n",
              "      <th>3</th>\n",
              "      <td>Pria</td>\n",
              "      <td>46</td>\n",
              "      <td>1</td>\n",
              "      <td>8</td>\n",
              "      <td>1</td>\n",
              "      <td>1-2 Tahun</td>\n",
              "      <td>Tidak</td>\n",
              "      <td>36266</td>\n",
              "      <td>124</td>\n",
              "      <td>34</td>\n",
              "      <td>0</td>\n",
              "    </tr>\n",
              "    <tr>\n",
              "      <th>4</th>\n",
              "      <td>Pria</td>\n",
              "      <td>35</td>\n",
              "      <td>1</td>\n",
              "      <td>23</td>\n",
              "      <td>0</td>\n",
              "      <td>1-2 Tahun</td>\n",
              "      <td>Pernah</td>\n",
              "      <td>26963</td>\n",
              "      <td>152</td>\n",
              "      <td>229</td>\n",
              "      <td>0</td>\n",
              "    </tr>\n",
              "  </tbody>\n",
              "</table>\n",
              "</div>"
            ],
            "text/plain": [
              "  Jenis_Kelamin  Umur  SIM  ...  Kanal_Penjualan  Lama_Berlangganan Tertarik\n",
              "0        Wanita    49    1  ...               26                145        0\n",
              "1          Pria    22    1  ...              152                241        0\n",
              "2          Pria    24    1  ...              152                 62        0\n",
              "3          Pria    46    1  ...              124                 34        0\n",
              "4          Pria    35    1  ...              152                229        0\n",
              "\n",
              "[5 rows x 11 columns]"
            ]
          },
          "metadata": {
            "tags": []
          },
          "execution_count": 21
        }
      ]
    },
    {
      "cell_type": "code",
      "metadata": {
        "id": "00VamTm4InEf",
        "colab": {
          "base_uri": "https://localhost:8080/"
        },
        "outputId": "508f7d78-8eab-4711-d92e-9fff93a40863"
      },
      "source": [
        "# Mengecek apakah di dalam data test terdapat data yang kosong (yang ditandai dengan NaN) atau tidak\n",
        "\n",
        "data_test.isnull().sum()"
      ],
      "execution_count": 22,
      "outputs": [
        {
          "output_type": "execute_result",
          "data": {
            "text/plain": [
              "Jenis_Kelamin        0\n",
              "Umur                 0\n",
              "SIM                  0\n",
              "Kode_Daerah          0\n",
              "Sudah_Asuransi       0\n",
              "Umur_Kendaraan       0\n",
              "Kendaraan_Rusak      0\n",
              "Premi                0\n",
              "Kanal_Penjualan      0\n",
              "Lama_Berlangganan    0\n",
              "Tertarik             0\n",
              "dtype: int64"
            ]
          },
          "metadata": {
            "tags": []
          },
          "execution_count": 22
        }
      ]
    },
    {
      "cell_type": "code",
      "metadata": {
        "id": "ji16jbhRIo5w",
        "colab": {
          "base_uri": "https://localhost:8080/",
          "height": 0
        },
        "outputId": "d2c6cfdd-8628-4fce-da8c-ac2bcc55837f"
      },
      "source": [
        "# Membuat visaulisasi sebelum data di lakukan tahapan preprocessing. Hal ini kami lakukan untuk melihat sebuah perbedaan antara\n",
        "# nilai korelasi dari setiap kolom sebelum di lakukan tahapan preprocessing dan sesudah di preprocessing pada data train\n",
        "\n",
        "plt.figure(figsize=(10, 5))\n",
        "\n",
        "korelasi_data_test = sns.heatmap(data_test.corr(), cmap=\"cool\", annot=True)\n",
        "korelasi_data_test.set_title(\"Korelasi Data Test Sebelum Di Lakukan Tahapan Preprocessing\", fontdict={\"fontsize\":12}, pad=12);"
      ],
      "execution_count": 23,
      "outputs": [
        {
          "output_type": "display_data",
          "data": {
            "image/png": "[encoded data removed]",
            "text/plain": [
              "<Figure size 720x360 with 2 Axes>"
            ]
          },
          "metadata": {
            "tags": []
          }
        }
      ]
    },
    {
      "cell_type": "markdown",
      "metadata": {
        "id": "EB_XB1mlIrjP"
      },
      "source": [
        "Sebelum memasuki langkah preprocessing, kami akan menjelaskan beberapa tahapan yang kami lakukan di dalam preprocessing ini, diantaranya adalah:\n",
        "1. Langsung mengubah kolom yang memiliki tipe data string menjadi integer.\n",
        "2. Menghapus kolom yang tidak diperlukan, karena jika dibiarkan akan sangat mempengaruhi tingkatan akurasi dan persebaran klasifikasi yang kurang baik."
      ]
    },
    {
      "cell_type": "code",
      "metadata": {
        "id": "ibcA9UB8IsWe",
        "colab": {
          "base_uri": "https://localhost:8080/",
          "height": 0
        },
        "outputId": "4b035902-4241-4d55-a2c8-3b439f11bcbd"
      },
      "source": [
        "# Mengubah tipe data dari kolom yang memiliki nilai kategorik/string menjadi integer/numerik\n",
        "\n",
        "from sklearn.preprocessing import LabelEncoder\n",
        "\n",
        "le = LabelEncoder()\n",
        "\n",
        "data_test[\"Jenis_Kelamin\"] = le.fit_transform(data_test[\"Jenis_Kelamin\"])\n",
        "data_test[\"Umur_Kendaraan\"] = le.fit_transform(data_test[\"Umur_Kendaraan\"])\n",
        "data_test[\"Kendaraan_Rusak\"] = le.fit_transform(data_test[\"Kendaraan_Rusak\"])\n",
        "\n",
        "data_test.head()"
      ],
      "execution_count": 24,
      "outputs": [
        {
          "output_type": "execute_result",
          "data": {
            "text/html": [
              "<div>\n",
              "<style scoped>\n",
              "    .dataframe tbody tr th:only-of-type {\n",
              "        vertical-align: middle;\n",
              "    }\n",
              "\n",
              "    .dataframe tbody tr th {\n",
              "        vertical-align: top;\n",
              "    }\n",
              "\n",
              "    .dataframe thead th {\n",
              "        text-align: right;\n",
              "    }\n",
              "</style>\n",
              "<table border=\"1\" class=\"dataframe\">\n",
              "  <thead>\n",
              "    <tr style=\"text-align: right;\">\n",
              "      <th></th>\n",
              "      <th>Jenis_Kelamin</th>\n",
              "      <th>Umur</th>\n",
              "      <th>SIM</th>\n",
              "      <th>Kode_Daerah</th>\n",
              "      <th>Sudah_Asuransi</th>\n",
              "      <th>Umur_Kendaraan</th>\n",
              "      <th>Kendaraan_Rusak</th>\n",
              "      <th>Premi</th>\n",
              "      <th>Kanal_Penjualan</th>\n",
              "      <th>Lama_Berlangganan</th>\n",
              "      <th>Tertarik</th>\n",
              "    </tr>\n",
              "  </thead>\n",
              "  <tbody>\n",
              "    <tr>\n",
              "      <th>0</th>\n",
              "      <td>1</td>\n",
              "      <td>49</td>\n",
              "      <td>1</td>\n",
              "      <td>8</td>\n",
              "      <td>0</td>\n",
              "      <td>0</td>\n",
              "      <td>0</td>\n",
              "      <td>46963</td>\n",
              "      <td>26</td>\n",
              "      <td>145</td>\n",
              "      <td>0</td>\n",
              "    </tr>\n",
              "    <tr>\n",
              "      <th>1</th>\n",
              "      <td>0</td>\n",
              "      <td>22</td>\n",
              "      <td>1</td>\n",
              "      <td>47</td>\n",
              "      <td>1</td>\n",
              "      <td>1</td>\n",
              "      <td>1</td>\n",
              "      <td>39624</td>\n",
              "      <td>152</td>\n",
              "      <td>241</td>\n",
              "      <td>0</td>\n",
              "    </tr>\n",
              "    <tr>\n",
              "      <th>2</th>\n",
              "      <td>0</td>\n",
              "      <td>24</td>\n",
              "      <td>1</td>\n",
              "      <td>28</td>\n",
              "      <td>1</td>\n",
              "      <td>1</td>\n",
              "      <td>1</td>\n",
              "      <td>110479</td>\n",
              "      <td>152</td>\n",
              "      <td>62</td>\n",
              "      <td>0</td>\n",
              "    </tr>\n",
              "    <tr>\n",
              "      <th>3</th>\n",
              "      <td>0</td>\n",
              "      <td>46</td>\n",
              "      <td>1</td>\n",
              "      <td>8</td>\n",
              "      <td>1</td>\n",
              "      <td>0</td>\n",
              "      <td>1</td>\n",
              "      <td>36266</td>\n",
              "      <td>124</td>\n",
              "      <td>34</td>\n",
              "      <td>0</td>\n",
              "    </tr>\n",
              "    <tr>\n",
              "      <th>4</th>\n",
              "      <td>0</td>\n",
              "      <td>35</td>\n",
              "      <td>1</td>\n",
              "      <td>23</td>\n",
              "      <td>0</td>\n",
              "      <td>0</td>\n",
              "      <td>0</td>\n",
              "      <td>26963</td>\n",
              "      <td>152</td>\n",
              "      <td>229</td>\n",
              "      <td>0</td>\n",
              "    </tr>\n",
              "  </tbody>\n",
              "</table>\n",
              "</div>"
            ],
            "text/plain": [
              "   Jenis_Kelamin  Umur  SIM  ...  Kanal_Penjualan  Lama_Berlangganan  Tertarik\n",
              "0              1    49    1  ...               26                145         0\n",
              "1              0    22    1  ...              152                241         0\n",
              "2              0    24    1  ...              152                 62         0\n",
              "3              0    46    1  ...              124                 34         0\n",
              "4              0    35    1  ...              152                229         0\n",
              "\n",
              "[5 rows x 11 columns]"
            ]
          },
          "metadata": {
            "tags": []
          },
          "execution_count": 24
        }
      ]
    },
    {
      "cell_type": "code",
      "metadata": {
        "id": "HxCrOY7cIviv",
        "colab": {
          "base_uri": "https://localhost:8080/",
          "height": 0
        },
        "outputId": "d2d48410-48f1-4e93-970b-5cc82cd81c19"
      },
      "source": [
        "# Menghapus Beberapa kolom yang tidak dibutuhkan\n",
        "\n",
        "data_test = data_test.drop([\"Jenis_Kelamin\", \"SIM\", \"Kode_Daerah\", \"Premi\", \"Kanal_Penjualan\"], axis = 1)\n",
        "data_test.head()"
      ],
      "execution_count": 25,
      "outputs": [
        {
          "output_type": "execute_result",
          "data": {
            "text/html": [
              "<div>\n",
              "<style scoped>\n",
              "    .dataframe tbody tr th:only-of-type {\n",
              "        vertical-align: middle;\n",
              "    }\n",
              "\n",
              "    .dataframe tbody tr th {\n",
              "        vertical-align: top;\n",
              "    }\n",
              "\n",
              "    .dataframe thead th {\n",
              "        text-align: right;\n",
              "    }\n",
              "</style>\n",
              "<table border=\"1\" class=\"dataframe\">\n",
              "  <thead>\n",
              "    <tr style=\"text-align: right;\">\n",
              "      <th></th>\n",
              "      <th>Umur</th>\n",
              "      <th>Sudah_Asuransi</th>\n",
              "      <th>Umur_Kendaraan</th>\n",
              "      <th>Kendaraan_Rusak</th>\n",
              "      <th>Lama_Berlangganan</th>\n",
              "      <th>Tertarik</th>\n",
              "    </tr>\n",
              "  </thead>\n",
              "  <tbody>\n",
              "    <tr>\n",
              "      <th>0</th>\n",
              "      <td>49</td>\n",
              "      <td>0</td>\n",
              "      <td>0</td>\n",
              "      <td>0</td>\n",
              "      <td>145</td>\n",
              "      <td>0</td>\n",
              "    </tr>\n",
              "    <tr>\n",
              "      <th>1</th>\n",
              "      <td>22</td>\n",
              "      <td>1</td>\n",
              "      <td>1</td>\n",
              "      <td>1</td>\n",
              "      <td>241</td>\n",
              "      <td>0</td>\n",
              "    </tr>\n",
              "    <tr>\n",
              "      <th>2</th>\n",
              "      <td>24</td>\n",
              "      <td>1</td>\n",
              "      <td>1</td>\n",
              "      <td>1</td>\n",
              "      <td>62</td>\n",
              "      <td>0</td>\n",
              "    </tr>\n",
              "    <tr>\n",
              "      <th>3</th>\n",
              "      <td>46</td>\n",
              "      <td>1</td>\n",
              "      <td>0</td>\n",
              "      <td>1</td>\n",
              "      <td>34</td>\n",
              "      <td>0</td>\n",
              "    </tr>\n",
              "    <tr>\n",
              "      <th>4</th>\n",
              "      <td>35</td>\n",
              "      <td>0</td>\n",
              "      <td>0</td>\n",
              "      <td>0</td>\n",
              "      <td>229</td>\n",
              "      <td>0</td>\n",
              "    </tr>\n",
              "  </tbody>\n",
              "</table>\n",
              "</div>"
            ],
            "text/plain": [
              "   Umur  Sudah_Asuransi  ...  Lama_Berlangganan  Tertarik\n",
              "0    49               0  ...                145         0\n",
              "1    22               1  ...                241         0\n",
              "2    24               1  ...                 62         0\n",
              "3    46               1  ...                 34         0\n",
              "4    35               0  ...                229         0\n",
              "\n",
              "[5 rows x 6 columns]"
            ]
          },
          "metadata": {
            "tags": []
          },
          "execution_count": 25
        }
      ]
    },
    {
      "cell_type": "code",
      "metadata": {
        "id": "_LT9_HghIwwI",
        "colab": {
          "base_uri": "https://localhost:8080/",
          "height": 0
        },
        "outputId": "e0c14c04-a9d8-42c7-d4ba-cefa140ea5b6"
      },
      "source": [
        "# Melakukan visualisasi untuk kolom \"Umur_Kendaraan\" dengan nilai hue yaitu kolom \"Kendaraan_Rusak\" pada data test\n",
        "\n",
        "plt.style.use(\"seaborn\")\n",
        "sns.countplot(x=\"Tertarik\", hue=\"Tertarik\", data=data_test)\n",
        "plt.figure(figsize=(7, 7))\n",
        "plt.show()"
      ],
      "execution_count": 26,
      "outputs": [
        {
          "output_type": "display_data",
          "data": {
            "image/png": "[encoded data removed]",
            "text/plain": [
              "<Figure size 576x396 with 1 Axes>"
            ]
          },
          "metadata": {
            "tags": []
          }
        },
        {
          "output_type": "display_data",
          "data": {
            "text/plain": [
              "<Figure size 504x504 with 0 Axes>"
            ]
          },
          "metadata": {
            "tags": []
          }
        }
      ]
    },
    {
      "cell_type": "code",
      "metadata": {
        "id": "uxt6H1_9Ix8_",
        "colab": {
          "base_uri": "https://localhost:8080/",
          "height": 0
        },
        "outputId": "683c955a-a475-461a-e4ca-ce13bb9d5547"
      },
      "source": [
        "# Melakukan visualisasi untuk kolom \"Umur_Kendaraan\" dengan nilai hue yaitu kolom \"Kendaraan_Rusak\" pada data test\n",
        "\n",
        "plt.style.use(\"seaborn\")\n",
        "sns.countplot(x=\"Umur_Kendaraan\", hue=\"Kendaraan_Rusak\", data=data_test)\n",
        "plt.figure(figsize=(7, 7))\n",
        "plt.show()"
      ],
      "execution_count": 27,
      "outputs": [
        {
          "output_type": "display_data",
          "data": {
            "image/png": "[encoded data removed]",
            "text/plain": [
              "<Figure size 576x396 with 1 Axes>"
            ]
          },
          "metadata": {
            "tags": []
          }
        },
        {
          "output_type": "display_data",
          "data": {
            "text/plain": [
              "<Figure size 504x504 with 0 Axes>"
            ]
          },
          "metadata": {
            "tags": []
          }
        }
      ]
    },
    {
      "cell_type": "code",
      "metadata": {
        "id": "6f4eVeEOIzT3",
        "colab": {
          "base_uri": "https://localhost:8080/",
          "height": 0
        },
        "outputId": "fa543b57-05c2-4c5e-88f8-e7b150bd9163"
      },
      "source": [
        "# Melakukan visualisasi untuk kolom \"Umur\" dengan nilai hue yaitu kolom \"Sudah_Asuransi\" pada data test\n",
        "\n",
        "plt.style.use(\"seaborn\")\n",
        "sns.countplot(x=\"Kendaraan_Rusak\", hue=\"Sudah_Asuransi\", data=data_test)\n",
        "plt.figure(figsize=(7, 7))\n",
        "plt.show()"
      ],
      "execution_count": 28,
      "outputs": [
        {
          "output_type": "display_data",
          "data": {
            "image/png": "[encoded data removed]",
            "text/plain": [
              "<Figure size 576x396 with 1 Axes>"
            ]
          },
          "metadata": {
            "tags": []
          }
        },
        {
          "output_type": "display_data",
          "data": {
            "text/plain": [
              "<Figure size 504x504 with 0 Axes>"
            ]
          },
          "metadata": {
            "tags": []
          }
        }
      ]
    },
    {
      "cell_type": "code",
      "metadata": {
        "id": "xsGSs19xI1HY",
        "colab": {
          "base_uri": "https://localhost:8080/",
          "height": 0
        },
        "outputId": "98874033-0eb6-46dc-c141-ecd7eb0627f0"
      },
      "source": [
        "# Melakukan visualisasi untuk kolom \"Umur_Kendaraan\" pada data test\n",
        "\n",
        "plt.style.use(\"seaborn\")\n",
        "sns.countplot(x=\"Umur_Kendaraan\", hue=\"Umur_Kendaraan\", data=data_test)\n",
        "plt.figure(figsize=(7, 7))\n",
        "plt.show()"
      ],
      "execution_count": 29,
      "outputs": [
        {
          "output_type": "display_data",
          "data": {
            "image/png": "[encoded data removed]",
            "text/plain": [
              "<Figure size 576x396 with 1 Axes>"
            ]
          },
          "metadata": {
            "tags": []
          }
        },
        {
          "output_type": "display_data",
          "data": {
            "text/plain": [
              "<Figure size 504x504 with 0 Axes>"
            ]
          },
          "metadata": {
            "tags": []
          }
        }
      ]
    },
    {
      "cell_type": "code",
      "metadata": {
        "id": "QftLkZMDI2h4",
        "colab": {
          "base_uri": "https://localhost:8080/",
          "height": 0
        },
        "outputId": "db196880-7360-4645-df0f-6704443aa8c6"
      },
      "source": [
        "# Membuat visualisasi untuk menampilkan nilai korelasi dari data test agar dapat melihat perbedaan visualisasi \n",
        "# antara sebelum di preprocessing dan sesudah di preprocessing\n",
        "\n",
        "plt.figure(figsize=(10, 5))\n",
        "\n",
        "korelasi_data_test = sns.heatmap(data_test.corr(), cmap=\"cool\", annot=True)\n",
        "korelasi_data_test.set_title(\"Korelasi Data Test Setelah Di Lakukan Tahapan Preprocessing\", fontdict={\"fontsize\":12}, pad=12);"
      ],
      "execution_count": 30,
      "outputs": [
        {
          "output_type": "display_data",
          "data": {
            "image/png": "[encoded data removed]",
            "text/plain": [
              "<Figure size 720x360 with 2 Axes>"
            ]
          },
          "metadata": {
            "tags": []
          }
        }
      ]
    },
    {
      "cell_type": "markdown",
      "metadata": {
        "id": "lgVpz2uNJcdv"
      },
      "source": [
        "## 5. Pemodelan Dengan Decision Tree Menggunakan Data Train"
      ]
    },
    {
      "cell_type": "code",
      "metadata": {
        "id": "z2dOfNtWJc9h"
      },
      "source": [
        "# Pemisahan data menjadi 2 variable\n",
        "\n",
        "x = data_train.drop([\"Tertarik\"], axis=1)\n",
        "y = data_train[\"Tertarik\"]"
      ],
      "execution_count": 31,
      "outputs": []
    },
    {
      "cell_type": "code",
      "metadata": {
        "id": "v1c2Zr2rJevH"
      },
      "source": [
        "# Melakukan pembagian data menjadi 2 bagian (data train & data test) menggunakan train_test_split\n",
        "\n",
        "x_train, x_test, y_train, y_test = train_test_split(x, y, test_size=0.4, random_state=1)"
      ],
      "execution_count": 32,
      "outputs": []
    },
    {
      "cell_type": "markdown",
      "metadata": {
        "id": "HZkNlVySJiQx"
      },
      "source": [
        "Penjelasan dari proses pemisahan data menjadi 2 variabel dan fungsi train_test_split: \n",
        "1. x: fitur yang ada di dalam data, kecuali kolom untuk label output.\n",
        "2. y: kolom yang menjadi variabel target. Di kasus ini variabel target merupakan kolom \"Tertarik\".\n",
        "3. test_size: Nilai presentase dari sebuah ukuran variabel test. Dalam pengujian ini kami memakai nilai test_size = 0.4 yang dimana ukuran dari variabel test mencapai 40% sehingga untuk ukuran variabel trainnya adalah 60%.\n",
        "4. random_state: Menetapkan nilai. Jika nilainya sama maka fungsi train_test_split akan menghasilkan pemisahan nilai yang sama persis di setiap waktunya."
      ]
    },
    {
      "cell_type": "code",
      "metadata": {
        "id": "yNNQMtrAJjOp"
      },
      "source": [
        "# Melakukan proses standarisasi\n",
        "from sklearn.preprocessing import StandardScaler\n",
        "\n",
        "sc = StandardScaler()\n",
        "x_train = sc.fit_transform(x_train)\n",
        "x_test = sc.fit_transform(x_test)"
      ],
      "execution_count": 33,
      "outputs": []
    },
    {
      "cell_type": "code",
      "metadata": {
        "id": "Q26FP3kWJl3h",
        "colab": {
          "base_uri": "https://localhost:8080/"
        },
        "outputId": "f9ca1b4a-86d1-4208-bb9a-13a3da06af11"
      },
      "source": [
        "# Pemaggilan model decision tree terhadap variabel training\n",
        "\n",
        "decisiontree =  DecisionTreeClassifier()\n",
        "decisiontree.fit(x_train, y_train)"
      ],
      "execution_count": 34,
      "outputs": [
        {
          "output_type": "execute_result",
          "data": {
            "text/plain": [
              "DecisionTreeClassifier(ccp_alpha=0.0, class_weight=None, criterion='gini',\n",
              "                       max_depth=None, max_features=None, max_leaf_nodes=None,\n",
              "                       min_impurity_decrease=0.0, min_impurity_split=None,\n",
              "                       min_samples_leaf=1, min_samples_split=2,\n",
              "                       min_weight_fraction_leaf=0.0, presort='deprecated',\n",
              "                       random_state=None, splitter='best')"
            ]
          },
          "metadata": {
            "tags": []
          },
          "execution_count": 34
        }
      ]
    },
    {
      "cell_type": "code",
      "metadata": {
        "id": "n40o3PFEJnh5",
        "colab": {
          "base_uri": "https://localhost:8080/"
        },
        "outputId": "19265e9d-720e-4b7a-8ea2-392a42196a41"
      },
      "source": [
        "# Melakukan pengujian untuk variabel test dan variabel train\n",
        "print(\"------------Prediksi dari variabel test------------------\")\n",
        "y_pred_test = decisiontree.predict(x_test)\n",
        "print(y_pred_test)\n",
        "\n",
        "print(\"------------Prediksi dari variabel train-----------------\")\n",
        "y_pred_train = decisiontree.predict(x_train)\n",
        "print(y_pred_train)"
      ],
      "execution_count": 35,
      "outputs": [
        {
          "output_type": "stream",
          "text": [
            "------------Prediksi dari variabel test------------------\n",
            "[0 0 0 ... 0 0 0]\n",
            "------------Prediksi dari variabel train-----------------\n",
            "[0 0 0 ... 0 0 0]\n"
          ],
          "name": "stdout"
        }
      ]
    },
    {
      "cell_type": "code",
      "metadata": {
        "id": "3r_CZfCvJp6j",
        "colab": {
          "base_uri": "https://localhost:8080/"
        },
        "outputId": "9bc632d7-a870-4202-dcdf-e5be3aed9d39"
      },
      "source": [
        "# Pengukuran performa untuk variabel test dan train\n",
        "\n",
        "print(\"------------------Performa Variabel Test------------------------\")\n",
        "tp, tn, fp, fn = confusion_matrix(y_test, y_pred_test).ravel()\n",
        "print(tp, tn, fp, fn)\n",
        "\n",
        "print(\"------------------Performa Variabel Train------------------------\")\n",
        "tp, tn, fp, fn = confusion_matrix(y_train, y_pred_train).ravel()\n",
        "print(tp, tn, fp, fn)"
      ],
      "execution_count": 36,
      "outputs": [
        {
          "output_type": "stream",
          "text": [
            "------------------Performa Variabel Test------------------------\n",
            "99202 987 13750 394\n",
            "------------------Performa Variabel Train------------------------\n",
            "149097 1539 12722 8140\n"
          ],
          "name": "stdout"
        }
      ]
    },
    {
      "cell_type": "markdown",
      "metadata": {
        "id": "EUDmb8V1JuDw"
      },
      "source": [
        "Ket:\n",
        "- Variabel test\n",
        "1. Di dalam TP (True positive), jumlah data positif yang berhasil di klasifikasikan dengan benar (data positif) berjumlah 99231.\n",
        "2. Di dalam TN (True negative), jumlah data negatif yang berhasil di klasifikasikan dengan salah (data negatif) berjumlah 958.\n",
        "3. Di dalam FP (False positive), jumlah data negatif namun di klasifikasikan dengan benar (data negatif) berjumlah 13754.\n",
        "4. Di dalam FN (False negative), jumlah data positif namun di klasifikasikan dengan salah (data positif) berjumlah 390.\n",
        "\n",
        "- Variabel train\n",
        "1. Di dalam TP (True positive), jumlah data positif yang berhasil di klasifikasikan dengan benar (data positif) berjumlah 149097.\n",
        "2. Di dalam TN (True negative), jumlah data negatif yang berhasil di klasifikasikan dengan salah (data negatif) berjumlah 1539.\n",
        "3. Di dalam FP (False positive), jumlah data negatif namun di klasifikasikan dengan benar (data negatif) berjumlah 12722.\n",
        "4. Di dalam FN (False negative), jumlah data positif namun di klasifikasikan dengan salah (data positif) berjumlah 8140."
      ]
    },
    {
      "cell_type": "code",
      "metadata": {
        "id": "7BhBsNsoJufh",
        "colab": {
          "base_uri": "https://localhost:8080/"
        },
        "outputId": "14b8cc8d-f583-4071-8cbd-a9697013f89c"
      },
      "source": [
        "# Menampilkan tingkat akurasi, precision, recall & f1-score dari model Decision Tree pada dataset Train.csv\n",
        "\n",
        "print(\"-----------------------Variabel Test-------------------------------\")\n",
        "print(classification_report(y_test, y_pred_test))\n",
        "\n",
        "print(\"-----------------------Variabel Train------------------------------\")\n",
        "print(classification_report(y_train, y_pred_train))"
      ],
      "execution_count": 37,
      "outputs": [
        {
          "output_type": "stream",
          "text": [
            "-----------------------Variabel Test-------------------------------\n",
            "              precision    recall  f1-score   support\n",
            "\n",
            "           0       0.88      0.99      0.93    100189\n",
            "           1       0.29      0.03      0.05     14144\n",
            "\n",
            "    accuracy                           0.87    114333\n",
            "   macro avg       0.58      0.51      0.49    114333\n",
            "weighted avg       0.80      0.87      0.82    114333\n",
            "\n",
            "-----------------------Variabel Train------------------------------\n",
            "              precision    recall  f1-score   support\n",
            "\n",
            "           0       0.92      0.99      0.95    150636\n",
            "           1       0.84      0.39      0.53     20862\n",
            "\n",
            "    accuracy                           0.92    171498\n",
            "   macro avg       0.88      0.69      0.74    171498\n",
            "weighted avg       0.91      0.92      0.90    171498\n",
            "\n"
          ],
          "name": "stdout"
        }
      ]
    },
    {
      "cell_type": "markdown",
      "metadata": {
        "id": "jQKYCpxAJzXP"
      },
      "source": [
        "Ket:\n",
        "1. Precision: merupakan seberapa akurat model yang digunakan dalam melakukan klasifikasi.\n",
        "2. Recall: merupakan gambaran dari keberhasilan suatu algoritma.\n",
        "3. F1-score: Perbandingan rata-rata precision dan recall yang telah dibobotkan."
      ]
    },
    {
      "cell_type": "code",
      "metadata": {
        "id": "11pbNH3-JzyJ",
        "colab": {
          "base_uri": "https://localhost:8080/"
        },
        "outputId": "c222d046-e1a2-4abe-98ce-d70bdd2bcdb4"
      },
      "source": [
        "print(\"Jumlah Prediksi Pada Variabel Test Adalah :\", y_pred_test)\n",
        "print(\"Jumlah Prediksi Pada Variabel Train Adalah :\", y_pred_train)"
      ],
      "execution_count": 38,
      "outputs": [
        {
          "output_type": "stream",
          "text": [
            "Jumlah Prediksi Pada Variabel Test Adalah : [0 0 0 ... 0 0 0]\n",
            "Jumlah Prediksi Pada Variabel Train Adalah : [0 0 0 ... 0 0 0]\n"
          ],
          "name": "stdout"
        }
      ]
    },
    {
      "cell_type": "code",
      "metadata": {
        "id": "ileLLg0oJ1rK",
        "colab": {
          "base_uri": "https://localhost:8080/",
          "height": 204
        },
        "outputId": "12aea14a-7b98-4283-b716-7f5497ff0326"
      },
      "source": [
        "# Memanggil kolom \"Tertarik\" pada variabel y_pred_test dan juga membuat variabel baru yang bernama output_train\n",
        "\n",
        "output_test = pd.DataFrame({\"Tertarik\" : y_pred_test})\n",
        "output_test.head()"
      ],
      "execution_count": 39,
      "outputs": [
        {
          "output_type": "execute_result",
          "data": {
            "text/html": [
              "<div>\n",
              "<style scoped>\n",
              "    .dataframe tbody tr th:only-of-type {\n",
              "        vertical-align: middle;\n",
              "    }\n",
              "\n",
              "    .dataframe tbody tr th {\n",
              "        vertical-align: top;\n",
              "    }\n",
              "\n",
              "    .dataframe thead th {\n",
              "        text-align: right;\n",
              "    }\n",
              "</style>\n",
              "<table border=\"1\" class=\"dataframe\">\n",
              "  <thead>\n",
              "    <tr style=\"text-align: right;\">\n",
              "      <th></th>\n",
              "      <th>Tertarik</th>\n",
              "    </tr>\n",
              "  </thead>\n",
              "  <tbody>\n",
              "    <tr>\n",
              "      <th>0</th>\n",
              "      <td>0</td>\n",
              "    </tr>\n",
              "    <tr>\n",
              "      <th>1</th>\n",
              "      <td>0</td>\n",
              "    </tr>\n",
              "    <tr>\n",
              "      <th>2</th>\n",
              "      <td>0</td>\n",
              "    </tr>\n",
              "    <tr>\n",
              "      <th>3</th>\n",
              "      <td>0</td>\n",
              "    </tr>\n",
              "    <tr>\n",
              "      <th>4</th>\n",
              "      <td>0</td>\n",
              "    </tr>\n",
              "  </tbody>\n",
              "</table>\n",
              "</div>"
            ],
            "text/plain": [
              "   Tertarik\n",
              "0         0\n",
              "1         0\n",
              "2         0\n",
              "3         0\n",
              "4         0"
            ]
          },
          "metadata": {
            "tags": []
          },
          "execution_count": 39
        }
      ]
    },
    {
      "cell_type": "code",
      "metadata": {
        "id": "-JAKuhiWJ3IR",
        "colab": {
          "base_uri": "https://localhost:8080/",
          "height": 204
        },
        "outputId": "0ad8a4f9-ed4c-42aa-afd7-2b4547c5d74d"
      },
      "source": [
        "# Memanggil kolom \"Tertarik\" pada variabel y_pred_train dan juga membuat variabel baru yang bernama output_train\n",
        "\n",
        "output_train = pd.DataFrame({\"Tertarik\" : y_pred_train})\n",
        "output_train.head()"
      ],
      "execution_count": 40,
      "outputs": [
        {
          "output_type": "execute_result",
          "data": {
            "text/html": [
              "<div>\n",
              "<style scoped>\n",
              "    .dataframe tbody tr th:only-of-type {\n",
              "        vertical-align: middle;\n",
              "    }\n",
              "\n",
              "    .dataframe tbody tr th {\n",
              "        vertical-align: top;\n",
              "    }\n",
              "\n",
              "    .dataframe thead th {\n",
              "        text-align: right;\n",
              "    }\n",
              "</style>\n",
              "<table border=\"1\" class=\"dataframe\">\n",
              "  <thead>\n",
              "    <tr style=\"text-align: right;\">\n",
              "      <th></th>\n",
              "      <th>Tertarik</th>\n",
              "    </tr>\n",
              "  </thead>\n",
              "  <tbody>\n",
              "    <tr>\n",
              "      <th>0</th>\n",
              "      <td>0</td>\n",
              "    </tr>\n",
              "    <tr>\n",
              "      <th>1</th>\n",
              "      <td>0</td>\n",
              "    </tr>\n",
              "    <tr>\n",
              "      <th>2</th>\n",
              "      <td>0</td>\n",
              "    </tr>\n",
              "    <tr>\n",
              "      <th>3</th>\n",
              "      <td>0</td>\n",
              "    </tr>\n",
              "    <tr>\n",
              "      <th>4</th>\n",
              "      <td>0</td>\n",
              "    </tr>\n",
              "  </tbody>\n",
              "</table>\n",
              "</div>"
            ],
            "text/plain": [
              "   Tertarik\n",
              "0         0\n",
              "1         0\n",
              "2         0\n",
              "3         0\n",
              "4         0"
            ]
          },
          "metadata": {
            "tags": []
          },
          "execution_count": 40
        }
      ]
    },
    {
      "cell_type": "code",
      "metadata": {
        "id": "2GIBGzvhJ4SR",
        "colab": {
          "base_uri": "https://localhost:8080/",
          "height": 349
        },
        "outputId": "f2b7ab04-0908-4f1a-9985-1d364802894d"
      },
      "source": [
        "# Membuat visualisasi untuk memprediksi apakah client tertarik untuk membeli kendaraan atau tidak\n",
        "plt.figure(figsize=(15, 5))\n",
        "\n",
        "# Visualisasi kolom Target dari variable output_train\n",
        "plt.subplot(1,2,1)\n",
        "sns.countplot(x=\"Tertarik\", hue=\"Tertarik\", data=output_test)\n",
        "plt.title(\"Jumlah Client Yang Tertarik Untuk Membeli Kendaraan Di Dalam Dataset Train.csv\")\n",
        "plt.xlabel(\"Kolom Tertarik Pada Variabel Test\")\n",
        "plt.legend()\n",
        "\n",
        "# Visualisasi kolom Target dari variable output_train\n",
        "plt.subplot(1,2,2)\n",
        "sns.countplot(x=\"Tertarik\", hue=\"Tertarik\", data=output_train)\n",
        "plt.title(\"Jumlah Client Yang Tertarik Untuk Membeli Kendaraan Di Dalam Dataset Train.csv\")\n",
        "plt.xlabel(\"Kolom Tertarik Pada Variabel Train\")\n",
        "plt.show()\n",
        "\n",
        "# 0 = Pelanggan Tidak Tertarik & 1 = Pelanggan Tertarik"
      ],
      "execution_count": 41,
      "outputs": [
        {
          "output_type": "display_data",
          "data": {
            "image/png": "[encoded data removed]",
            "text/plain": [
              "<Figure size 1080x360 with 2 Axes>"
            ]
          },
          "metadata": {
            "tags": []
          }
        }
      ]
    },
    {
      "cell_type": "markdown",
      "metadata": {
        "id": "Vw9iRS2pI5Qv"
      },
      "source": [
        "## 6. Pemodelan Dengan Decision Tree Menggunakan Data Test"
      ]
    },
    {
      "cell_type": "code",
      "metadata": {
        "id": "3txmluCEI7WJ",
        "colab": {
          "base_uri": "https://localhost:8080/",
          "height": 204
        },
        "outputId": "3d229c56-e91c-4f99-c9b3-e3cc6f975ed2"
      },
      "source": [
        "data_test.head()"
      ],
      "execution_count": 42,
      "outputs": [
        {
          "output_type": "execute_result",
          "data": {
            "text/html": [
              "<div>\n",
              "<style scoped>\n",
              "    .dataframe tbody tr th:only-of-type {\n",
              "        vertical-align: middle;\n",
              "    }\n",
              "\n",
              "    .dataframe tbody tr th {\n",
              "        vertical-align: top;\n",
              "    }\n",
              "\n",
              "    .dataframe thead th {\n",
              "        text-align: right;\n",
              "    }\n",
              "</style>\n",
              "<table border=\"1\" class=\"dataframe\">\n",
              "  <thead>\n",
              "    <tr style=\"text-align: right;\">\n",
              "      <th></th>\n",
              "      <th>Umur</th>\n",
              "      <th>Sudah_Asuransi</th>\n",
              "      <th>Umur_Kendaraan</th>\n",
              "      <th>Kendaraan_Rusak</th>\n",
              "      <th>Lama_Berlangganan</th>\n",
              "      <th>Tertarik</th>\n",
              "    </tr>\n",
              "  </thead>\n",
              "  <tbody>\n",
              "    <tr>\n",
              "      <th>0</th>\n",
              "      <td>49</td>\n",
              "      <td>0</td>\n",
              "      <td>0</td>\n",
              "      <td>0</td>\n",
              "      <td>145</td>\n",
              "      <td>0</td>\n",
              "    </tr>\n",
              "    <tr>\n",
              "      <th>1</th>\n",
              "      <td>22</td>\n",
              "      <td>1</td>\n",
              "      <td>1</td>\n",
              "      <td>1</td>\n",
              "      <td>241</td>\n",
              "      <td>0</td>\n",
              "    </tr>\n",
              "    <tr>\n",
              "      <th>2</th>\n",
              "      <td>24</td>\n",
              "      <td>1</td>\n",
              "      <td>1</td>\n",
              "      <td>1</td>\n",
              "      <td>62</td>\n",
              "      <td>0</td>\n",
              "    </tr>\n",
              "    <tr>\n",
              "      <th>3</th>\n",
              "      <td>46</td>\n",
              "      <td>1</td>\n",
              "      <td>0</td>\n",
              "      <td>1</td>\n",
              "      <td>34</td>\n",
              "      <td>0</td>\n",
              "    </tr>\n",
              "    <tr>\n",
              "      <th>4</th>\n",
              "      <td>35</td>\n",
              "      <td>0</td>\n",
              "      <td>0</td>\n",
              "      <td>0</td>\n",
              "      <td>229</td>\n",
              "      <td>0</td>\n",
              "    </tr>\n",
              "  </tbody>\n",
              "</table>\n",
              "</div>"
            ],
            "text/plain": [
              "   Umur  Sudah_Asuransi  ...  Lama_Berlangganan  Tertarik\n",
              "0    49               0  ...                145         0\n",
              "1    22               1  ...                241         0\n",
              "2    24               1  ...                 62         0\n",
              "3    46               1  ...                 34         0\n",
              "4    35               0  ...                229         0\n",
              "\n",
              "[5 rows x 6 columns]"
            ]
          },
          "metadata": {
            "tags": []
          },
          "execution_count": 42
        }
      ]
    },
    {
      "cell_type": "code",
      "metadata": {
        "id": "j92JHW5oI8Zh"
      },
      "source": [
        "# Pemisahan data menjadi 2 variable\n",
        "\n",
        "x = data_test.drop([\"Tertarik\"], axis=1)\n",
        "y = data_test[\"Tertarik\"]"
      ],
      "execution_count": 43,
      "outputs": []
    },
    {
      "cell_type": "code",
      "metadata": {
        "id": "ooBOlcPgI9ce"
      },
      "source": [
        "# Melakukan pembagian data menjadi 2 bagian (data train & data test) menggunakan train_test_split\n",
        "\n",
        "x_train, x_test, y_train, y_test = train_test_split(x, y, test_size=0.2, random_state=1)"
      ],
      "execution_count": 44,
      "outputs": []
    },
    {
      "cell_type": "markdown",
      "metadata": {
        "id": "ZZEHuDfKJAtC"
      },
      "source": [
        "Penjelasan dari proses pemisahan data menjadi 2 variabel dan fungsi train_test_split: \n",
        "1. x: fitur yang ada di dalam data, kecuali kolom untuk label output.\n",
        "2. y: kolom yang menjadi variabel target. Di kasus ini variabel target merupakan kolom \"Tertarik\".\n",
        "3. test_size: Nilai presentase dari sebuah ukuran variabel test. Dalam pengujian ini kami memakai nilai test_size = 0.2 yang dimana ukuran dari variabel test mencapai 20% sehingga untuk ukuran variabel trainnya adalah 80%.\n",
        "4. random_state: Menetapkan nilai. Jika nilainya sama maka fungsi train_test_split akan menghasilkan pemisahan nilai yang sama persis di setiap waktunya."
      ]
    },
    {
      "cell_type": "code",
      "metadata": {
        "id": "TtxRB8NdJCuY"
      },
      "source": [
        "# Melakukan proses standarisasi\n",
        "from sklearn.preprocessing import StandardScaler\n",
        "\n",
        "sc = StandardScaler()\n",
        "x_train = sc.fit_transform(x_train)\n",
        "x_test = sc.fit_transform(x_test)"
      ],
      "execution_count": 45,
      "outputs": []
    },
    {
      "cell_type": "code",
      "metadata": {
        "id": "RBmCdbANJEn4",
        "colab": {
          "base_uri": "https://localhost:8080/"
        },
        "outputId": "e64ccaa5-018e-4469-c83e-438a0fd8fffa"
      },
      "source": [
        "# Pemaggilan model decision tree terhadap variabel training\n",
        "\n",
        "decisiontree = DecisionTreeClassifier()\n",
        "decisiontree.fit(x_train, y_train)"
      ],
      "execution_count": 46,
      "outputs": [
        {
          "output_type": "execute_result",
          "data": {
            "text/plain": [
              "DecisionTreeClassifier(ccp_alpha=0.0, class_weight=None, criterion='gini',\n",
              "                       max_depth=None, max_features=None, max_leaf_nodes=None,\n",
              "                       min_impurity_decrease=0.0, min_impurity_split=None,\n",
              "                       min_samples_leaf=1, min_samples_split=2,\n",
              "                       min_weight_fraction_leaf=0.0, presort='deprecated',\n",
              "                       random_state=None, splitter='best')"
            ]
          },
          "metadata": {
            "tags": []
          },
          "execution_count": 46
        }
      ]
    },
    {
      "cell_type": "code",
      "metadata": {
        "id": "faNUhbZPJGkJ",
        "colab": {
          "base_uri": "https://localhost:8080/"
        },
        "outputId": "c9720bcb-bb92-4c47-c32d-3ee2a908e294"
      },
      "source": [
        "# Melakukan pengujian untuk variabel test dan variabel train\n",
        "print(\"------------Prediksi dari variabel test------------------\")\n",
        "y_pred_test = decisiontree.predict(x_test)\n",
        "print(y_pred_test)\n",
        "\n",
        "print(\"------------Prediksi dari variabel train-----------------\")\n",
        "y_pred_train = decisiontree.predict(x_train)\n",
        "print(y_pred_train)"
      ],
      "execution_count": 47,
      "outputs": [
        {
          "output_type": "stream",
          "text": [
            "------------Prediksi dari variabel test------------------\n",
            "[0 0 0 ... 0 0 0]\n",
            "------------Prediksi dari variabel train-----------------\n",
            "[0 0 0 ... 0 0 0]\n"
          ],
          "name": "stdout"
        }
      ]
    },
    {
      "cell_type": "code",
      "metadata": {
        "id": "HC5R-_PyJJZ4",
        "colab": {
          "base_uri": "https://localhost:8080/"
        },
        "outputId": "f0694e04-cf6f-4d9d-b663-73fa773e6e2d"
      },
      "source": [
        "# Pengukuran performa untuk variabel test dan train\n",
        "\n",
        "print(\"------------------Performa Variabel Test------------------------\")\n",
        "tp, tn, fp, fn = confusion_matrix(y_test, y_pred_test).ravel()\n",
        "print(tp, tn, fp, fn)\n",
        "\n",
        "print(\"------------------Performa Variabel Train------------------------\")\n",
        "tp, tn, fp, fn = confusion_matrix(y_train, y_pred_train).ravel()\n",
        "print(tp, tn, fp, fn)"
      ],
      "execution_count": 48,
      "outputs": [
        {
          "output_type": "stream",
          "text": [
            "------------------Performa Variabel Test------------------------\n",
            "7709 659 884 276\n",
            "------------------Performa Variabel Train------------------------\n",
            "33187 223 1868 2833\n"
          ],
          "name": "stdout"
        }
      ]
    },
    {
      "cell_type": "markdown",
      "metadata": {
        "id": "CNTl4vexJMhg"
      },
      "source": [
        "Ket:\n",
        "- Variabel test\n",
        "1. Di dalam TP (True positive), jumlah data positif yang berhasil di klasifikasikan dengan benar (data positif) berjumlah 7709.\n",
        "2. Di dalam TN (True negative), jumlah data negatif yang berhasil di klasifikasikan dengan salah (data negatif) berjumlah 659.\n",
        "3. Di dalam FP (False positive), jumlah data negatif namun di klasifikasikan dengan benar (data negatif) berjumlah 888.\n",
        "4. Di dalam FN (False negative), jumlah data positif namun di klasifikasikan dengan salah (data positif) berjumlah 272.\n",
        "\n",
        "- Variabel train\n",
        "1. Di dalam TP (True positive), jumlah data positif yang berhasil di klasifikasikan dengan benar (data positif) berjumlah 33187.\n",
        "2. Di dalam TN (True negative), jumlah data negatif yang berhasil di klasifikasikan dengan salah (data negatif) berjumlah 223.\n",
        "3. Di dalam FP (False positive), jumlah data negatif namun di klasifikasikan dengan benar (data negatif) berjumlah 1868.\n",
        "4. Di dalam FN (False negative), jumlah data positif namun di klasifikasikan dengan salah (data positif) berjumlah 2833."
      ]
    },
    {
      "cell_type": "code",
      "metadata": {
        "id": "mx7_ktEfJM-O",
        "colab": {
          "base_uri": "https://localhost:8080/"
        },
        "outputId": "ca3a53cd-1ebd-4a4a-cd54-5a9c06c07402"
      },
      "source": [
        "# Menampilkan tingkat akurasi, precision, recall & f1-score dari model Decision Tree pada dataset kendaraan_train.csv\n",
        "\n",
        "print(\"-----------------------Variabel Test-------------------------------\")\n",
        "print(classification_report(y_test, y_pred_test))\n",
        "\n",
        "print(\"-----------------------Variabel Train------------------------------\")\n",
        "print(classification_report(y_train, y_pred_train))"
      ],
      "execution_count": 49,
      "outputs": [
        {
          "output_type": "stream",
          "text": [
            "-----------------------Variabel Test-------------------------------\n",
            "              precision    recall  f1-score   support\n",
            "\n",
            "           0       0.90      0.92      0.91      8368\n",
            "           1       0.30      0.24      0.26      1160\n",
            "\n",
            "    accuracy                           0.84      9528\n",
            "   macro avg       0.60      0.58      0.59      9528\n",
            "weighted avg       0.82      0.84      0.83      9528\n",
            "\n",
            "-----------------------Variabel Train------------------------------\n",
            "              precision    recall  f1-score   support\n",
            "\n",
            "           0       0.95      0.99      0.97     33410\n",
            "           1       0.93      0.60      0.73      4701\n",
            "\n",
            "    accuracy                           0.95     38111\n",
            "   macro avg       0.94      0.80      0.85     38111\n",
            "weighted avg       0.94      0.95      0.94     38111\n",
            "\n"
          ],
          "name": "stdout"
        }
      ]
    },
    {
      "cell_type": "code",
      "metadata": {
        "colab": {
          "base_uri": "https://localhost:8080/"
        },
        "id": "S3znUHNSRxlt",
        "outputId": "3fc8e3e5-abbc-43ee-a411-73c31dcb53d9"
      },
      "source": [
        "metrics.f1_score(y_test, y_pred_test)"
      ],
      "execution_count": 50,
      "outputs": [
        {
          "output_type": "execute_result",
          "data": {
            "text/plain": [
              "0.26348448687350834"
            ]
          },
          "metadata": {
            "tags": []
          },
          "execution_count": 50
        }
      ]
    },
    {
      "cell_type": "markdown",
      "metadata": {
        "id": "UzleNC7MJUQ7"
      },
      "source": [
        "Ket:\n",
        "1. Precision: merupakan seberapa akurat model yang digunakan dalam melakukan klasifikasi.\n",
        "2. Recall: merupakan gambaran dari keberhasilan suatu algoritma.\n",
        "3. F1-score: Perbandingan rata-rata precision dan recall yang telah dibobotkan."
      ]
    },
    {
      "cell_type": "code",
      "metadata": {
        "id": "na81rBIkJWGY",
        "colab": {
          "base_uri": "https://localhost:8080/"
        },
        "outputId": "446537c4-d8f0-49b2-fc08-91cc47a908a4"
      },
      "source": [
        "print(\"Jumlah Prediksi Pada Variabel Train Adalah :\", y_pred_train)\n",
        "print(\"Jumlah Prediksi Pada Variabel Test Adalah :\", y_pred_test)"
      ],
      "execution_count": 51,
      "outputs": [
        {
          "output_type": "stream",
          "text": [
            "Jumlah Prediksi Pada Variabel Train Adalah : [0 0 0 ... 0 0 0]\n",
            "Jumlah Prediksi Pada Variabel Test Adalah : [0 0 0 ... 0 0 0]\n"
          ],
          "name": "stdout"
        }
      ]
    },
    {
      "cell_type": "code",
      "metadata": {
        "id": "Ni5lMutKJXaY",
        "colab": {
          "base_uri": "https://localhost:8080/",
          "height": 204
        },
        "outputId": "0e2b972f-4fd6-44ca-ad09-f3a143ec47d0"
      },
      "source": [
        "# Memanggil kolom \"Tertarik\" pada variabel y_pred_test dan juga membuat variabel baru yang bernama output_test\n",
        "\n",
        "output_test = pd.DataFrame({\"Tertarik\" : y_pred_test})\n",
        "output_test.head()"
      ],
      "execution_count": 52,
      "outputs": [
        {
          "output_type": "execute_result",
          "data": {
            "text/html": [
              "<div>\n",
              "<style scoped>\n",
              "    .dataframe tbody tr th:only-of-type {\n",
              "        vertical-align: middle;\n",
              "    }\n",
              "\n",
              "    .dataframe tbody tr th {\n",
              "        vertical-align: top;\n",
              "    }\n",
              "\n",
              "    .dataframe thead th {\n",
              "        text-align: right;\n",
              "    }\n",
              "</style>\n",
              "<table border=\"1\" class=\"dataframe\">\n",
              "  <thead>\n",
              "    <tr style=\"text-align: right;\">\n",
              "      <th></th>\n",
              "      <th>Tertarik</th>\n",
              "    </tr>\n",
              "  </thead>\n",
              "  <tbody>\n",
              "    <tr>\n",
              "      <th>0</th>\n",
              "      <td>0</td>\n",
              "    </tr>\n",
              "    <tr>\n",
              "      <th>1</th>\n",
              "      <td>0</td>\n",
              "    </tr>\n",
              "    <tr>\n",
              "      <th>2</th>\n",
              "      <td>0</td>\n",
              "    </tr>\n",
              "    <tr>\n",
              "      <th>3</th>\n",
              "      <td>0</td>\n",
              "    </tr>\n",
              "    <tr>\n",
              "      <th>4</th>\n",
              "      <td>0</td>\n",
              "    </tr>\n",
              "  </tbody>\n",
              "</table>\n",
              "</div>"
            ],
            "text/plain": [
              "   Tertarik\n",
              "0         0\n",
              "1         0\n",
              "2         0\n",
              "3         0\n",
              "4         0"
            ]
          },
          "metadata": {
            "tags": []
          },
          "execution_count": 52
        }
      ]
    },
    {
      "cell_type": "code",
      "metadata": {
        "id": "fd9wVpznJYhx",
        "colab": {
          "base_uri": "https://localhost:8080/",
          "height": 204
        },
        "outputId": "8e64de01-32bb-4af3-e42c-85826739f07b"
      },
      "source": [
        "# Memanggil kolom \"Tertarik\" pada variabel y_pred_train dan juga membuat variabel baru yang bernama output_train\n",
        "\n",
        "output_train = pd.DataFrame({\"Tertarik\" : y_pred_train})\n",
        "output_train.head()"
      ],
      "execution_count": 53,
      "outputs": [
        {
          "output_type": "execute_result",
          "data": {
            "text/html": [
              "<div>\n",
              "<style scoped>\n",
              "    .dataframe tbody tr th:only-of-type {\n",
              "        vertical-align: middle;\n",
              "    }\n",
              "\n",
              "    .dataframe tbody tr th {\n",
              "        vertical-align: top;\n",
              "    }\n",
              "\n",
              "    .dataframe thead th {\n",
              "        text-align: right;\n",
              "    }\n",
              "</style>\n",
              "<table border=\"1\" class=\"dataframe\">\n",
              "  <thead>\n",
              "    <tr style=\"text-align: right;\">\n",
              "      <th></th>\n",
              "      <th>Tertarik</th>\n",
              "    </tr>\n",
              "  </thead>\n",
              "  <tbody>\n",
              "    <tr>\n",
              "      <th>0</th>\n",
              "      <td>0</td>\n",
              "    </tr>\n",
              "    <tr>\n",
              "      <th>1</th>\n",
              "      <td>0</td>\n",
              "    </tr>\n",
              "    <tr>\n",
              "      <th>2</th>\n",
              "      <td>0</td>\n",
              "    </tr>\n",
              "    <tr>\n",
              "      <th>3</th>\n",
              "      <td>0</td>\n",
              "    </tr>\n",
              "    <tr>\n",
              "      <th>4</th>\n",
              "      <td>0</td>\n",
              "    </tr>\n",
              "  </tbody>\n",
              "</table>\n",
              "</div>"
            ],
            "text/plain": [
              "   Tertarik\n",
              "0         0\n",
              "1         0\n",
              "2         0\n",
              "3         0\n",
              "4         0"
            ]
          },
          "metadata": {
            "tags": []
          },
          "execution_count": 53
        }
      ]
    },
    {
      "cell_type": "code",
      "metadata": {
        "id": "jsUZ2oy1JZrZ",
        "colab": {
          "base_uri": "https://localhost:8080/",
          "height": 349
        },
        "outputId": "33bfc51a-b6ca-4da8-ad58-4dfa86d63b17"
      },
      "source": [
        "# Membuat visualisasi untuk memprediksi apakah client tertarik untuk membeli kendaraan/tidak didalam data test.csv\n",
        "plt.figure(figsize=(15, 5))\n",
        "\n",
        "# Visualisasi kolom Target dari variable output_train\n",
        "plt.subplot(1,2,1)\n",
        "sns.countplot(x=\"Tertarik\", hue=\"Tertarik\", data=output_test)\n",
        "plt.title(\"Jumlah Client Yang Tertarik Untuk Membeli Kendaraan Di Dalam Dataset test.csv\")\n",
        "plt.xlabel(\"Kolom Tertarik Pada Variabel Test\")\n",
        "plt.legend()\n",
        "\n",
        "# Visualisasi kolom Target dari variable output_train\n",
        "plt.subplot(1,2,2)\n",
        "sns.countplot(x=\"Tertarik\", hue=\"Tertarik\", data=output_train)\n",
        "plt.title(\"Jumlah Client Yang Tertarik Untuk Membeli Kendaraan Di Dalam Dataset test.csv\")\n",
        "plt.xlabel(\"Kolom Tertarik Pada Variabel Train\")\n",
        "plt.show()\n",
        "\n",
        "# 0 = Pelanggan Tidak Tertarik & 1 = Pelanggan Tertarik"
      ],
      "execution_count": 54,
      "outputs": [
        {
          "output_type": "display_data",
          "data": {
            "image/png": "[encoded data removed]",
            "text/plain": [
              "<Figure size 1080x360 with 2 Axes>"
            ]
          },
          "metadata": {
            "tags": []
          }
        }
      ]
    },
    {
      "cell_type": "markdown",
      "metadata": {
        "id": "V9LaGAdhOy-6"
      },
      "source": [
        "## 7. Simpan Prediksi Data "
      ]
    },
    {
      "cell_type": "code",
      "metadata": {
        "id": "fN28yl0jiKpp"
      },
      "source": [
        "kendaraan = data_test.append(data_train, ignore_index=True)\n",
        "kendaraan.to_csv('kendaraan_Train&Test_NEW_VERSION.csv')"
      ],
      "execution_count": 55,
      "outputs": []
    }
  ]
}